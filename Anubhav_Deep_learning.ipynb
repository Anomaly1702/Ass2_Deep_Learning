{
  "cells": [
    {
      "cell_type": "code",
      "execution_count": 1,
      "id": "10e67da5",
      "metadata": {
        "id": "10e67da5"
      },
      "outputs": [],
      "source": [
        "import torch\n",
        "import torchvision\n",
        "import torchvision.transforms as transforms\n",
        "import torch.utils.data as data\n",
        "from torchvision import datasets\n",
        "from torchsummary import summary\n",
        "#Neural Networks\n",
        "import torch.nn as nn\n",
        "import torch.nn.functional as F\n",
        "#Visualize img\n",
        "from torchvision.utils import make_grid\n",
        "import time\n",
        "#PLotting\n",
        "import pylab as pl\n",
        "#Optimizer\n",
        "import torch.optim as optim\n",
        "%matplotlib inline\n",
        "import matplotlib.pyplot as plt\n",
        "import numpy as np\n",
        "import os\n",
        "os.environ[\"KMP_DUPLICATE_LIB_OK\"]=\"TRUE\""
      ]
    },
    {
      "cell_type": "code",
      "execution_count": 5,
      "id": "9414efa8",
      "metadata": {
        "id": "9414efa8"
      },
      "outputs": [],
      "source": [
        "def get_device():\n",
        "    return torch.device('cuda:0' if torch.cuda.is_available() else 'cpu')\n",
        "get_device()\n",
        "def get_default_device():\n",
        "    \"\"\"Pick GPU if available, else CPU\"\"\"\n",
        "    if torch.cuda.is_available():\n",
        "        return torch.device('cuda')\n",
        "    else:\n",
        "        return torch.device('cpu')"
      ]
    },
    {
      "cell_type": "markdown",
      "source": [
        "Make base class inheriting and having all functions"
      ],
      "metadata": {
        "id": "b56MY4_CChU0"
      },
      "id": "b56MY4_CChU0"
    },
    {
      "cell_type": "code",
      "source": [
        "from matplotlib.markers import MarkerStyle\n",
        "class Basenet(nn.Module):\n",
        "\n",
        "\n",
        "    def set_loss_function(self,learning_rt,optimizer_fn,mm):\n",
        "        criterion = nn.CrossEntropyLoss()\n",
        "        if optimizer_fn == \"SGD\":\n",
        "            optimizer = optim.SGD(self.parameters(), lr=learning_rt, momentum=mm)\n",
        "        elif optimizer_fn == \"Adam\":\n",
        "            optimizer = optim.Adam(self.parameters(), lr=learning_rt)\n",
        "        return criterion,optimizer\n",
        "    \n",
        "    \n",
        "    \n",
        "    def train_model(self,epochs,learning_rt=0.001,optimizer_fn = \"SGD\",mm=0.9):\n",
        "        train_stats = []\n",
        "        self.criterion,self.optimizer = self.set_loss_function(learning_rt,optimizer_fn,mm)\n",
        "        criterion = self.criterion\n",
        "        optimizer = self.optimizer\n",
        "        self.epoch = epochs\n",
        "        self.stats = []\n",
        "        # scheduler = torch.optim.lr_scheduler.ReduceLROnPlateau(optimizer, 'min')\n",
        "        self.train()\n",
        "        early_stopper = EarlyStopper(patience=2, min_delta=1)\n",
        "        for epoch in range(epochs):  # loop over the dataset multiple times\n",
        "            running_loss = 0.0\n",
        "            train_loss = []\n",
        "            train_acc = []\n",
        "            for i, train_set in enumerate(self.trainloader, 0):# get the inputs; data is a list of [inputs, labels]\n",
        "                #inputs, labels = data\n",
        "                inputs, labels = train_set[0].to(get_default_device()), train_set[1].to(get_default_device())\n",
        "                # zero the parameter gradients\n",
        "                optimizer.zero_grad()\n",
        "                # forward + backward + optimize\n",
        "                outputs = self(inputs)\n",
        "                loss = criterion(outputs, labels)\n",
        "                loss.backward()\n",
        "                optimizer.step()\n",
        "                torch.autograd.set_detect_anomaly(True)\n",
        "                #Appending sample loss to list\n",
        "                train_loss.append(loss.item())\n",
        "                \n",
        "                # print statistics\n",
        "                running_loss += loss.item()\n",
        "                if i % 2000 == 1999:    # print every 2000 mini-batches\n",
        "                    print(f'[{epoch + 1}, {i + 1:5d}] loss: {running_loss / 2000:.3f}')\n",
        "#                     print(f'[{epoch + 1}, {i + 1:5d}] loss: {loss.item() / 2000:.3f}')\n",
        "                    running_loss = 0.0\n",
        "            # self.train()\n",
        "            train_acc,train_loss = self.acc_and_loss(self.trainloader)\n",
        "            # self.eval()\n",
        "            val_acc,val_loss = self.acc_and_loss(self.valloader,\"val\")\n",
        "            if early_stopper.early_stop(val_loss):  \n",
        "              break\n",
        "            # scheduler.step(val_loss)\n",
        "            train_stat = {\"epoch\" : epoch+1,\"Train_Loss\" :train_loss,\"Train_Acc\" :train_acc,\"Val_Acc\": val_acc,\"Val_Loss\":val_loss}\n",
        "            print(train_stat)\n",
        "            # train_stats.append(train_stat)\n",
        "            # train_stat = {\"epoch\" : epoch,\"Train_Loss\" :train_loss,\"Train_Acc\" :train_acc,\"Val_Acc\": val_acc,\"Val_Loss\":val_loss}\n",
        "            # print(train_stat)\n",
        "            train_stats.append(train_stat)\n",
        "            # self.stats=train_stats\n",
        "            # if epoch>0:\n",
        "            #   print(\"went here at: \",epoch)\n",
        "            #   if (epoch<epoch-1):\n",
        "            #     print(\"if went here at: \",epoch)\n",
        "            #     self.plot_graph(epoch)\n",
        "            #   else:\n",
        "            #     print(\"else went here at: \",epoch)\n",
        "            #     self.plot_graph(epoch,last_plot= True)\n",
        "        self.stats=train_stats\n",
        "        print('Finished Training')\n",
        "#         return True\n",
        "\n",
        "    def imshow(self,img):\n",
        "        img = img / 2 + 0.5     # unnormalize\n",
        "        npimg = img.numpy()\n",
        "        plt.imshow(np.transpose(npimg, (1, 2, 0)))\n",
        "        # plt.show()\n",
        "    def acc_and_loss(self,loader,flag = 'train'):\n",
        "        if flag == 'train':\n",
        "          print(\"train\")\n",
        "          self.train()\n",
        "        else:\n",
        "          print(\"Val\")\n",
        "          self.eval()\n",
        "        losses = []\n",
        "        acc_lst = []\n",
        "        mean_loss,acc = 0,0\n",
        "        lbl_sz =0\n",
        "        criterion = self.criterion\n",
        "        optimizer = self.optimizer\n",
        "        #NO gradient required as not training\n",
        "        with torch.no_grad():\n",
        "            for i, data in enumerate(loader, 0):\n",
        "                # get the inputs\n",
        "                inputs, labels = data[0].to(get_default_device()), data[1].to(get_default_device())\n",
        "                outputs = self(inputs)\n",
        "                #Accuracy\n",
        "                lbl_sz+=labels.size(0)\n",
        "                _, predicted = torch.max(outputs.data, 1)\n",
        "                itm = (predicted == labels).sum().item()\n",
        "                acc_lst.append(itm)\n",
        "                #losses\n",
        "                loss = criterion(outputs, labels)\n",
        "                losses.append(loss.item())\n",
        "        mean_loss = np.mean(losses)\n",
        "        acc=(100 * np.sum(acc_lst) / lbl_sz)\n",
        "        return  acc,mean_loss\n",
        "    def Accuracy(self,flag):\n",
        "        if flag == 'val':\n",
        "          print(\"val\")\n",
        "          loader = self.valloader\n",
        "        else:\n",
        "          print(\"test\")\n",
        "          loader = self.testloader\n",
        "        self.eval()\n",
        "        correct = 0\n",
        "        total = 0\n",
        "        with torch.no_grad():\n",
        "            for data in loader:\n",
        "                images, labels = data[0].to(get_default_device()), data[1].to(get_default_device())\n",
        "                outputs = self(images)\n",
        "                _, predicted = torch.max(outputs.data, 1)\n",
        "                total += labels.size(0)\n",
        "                correct += (predicted == labels).sum().item()\n",
        "\n",
        "        print(f'Accuracy of the network on the {len(loader)} images: %d %%' % (\n",
        "            100 * correct / total))\n",
        "        return (100 * correct / total)\n",
        "    \n",
        "    # def Testing(self,flag):\n",
        "    #     dataiter = iter(loader)\n",
        "    #     images, labels = dataiter.next()\n",
        "    #     # print images\n",
        "    #     self.imshow(self,torchvision.utils.make_grid(images))\n",
        "    #     print('GroundTruth: ', ' '.join(f'{self.classes[labels[j]]:5s}' for j in range(4)))\n",
        "\n",
        "    def class_Acc(self,flag='val'):\n",
        "        if flag == 'val':\n",
        "          print(\"val\")\n",
        "          loader = self.valloader\n",
        "        else:\n",
        "          print(\"test\")\n",
        "          loader = self.testloader\n",
        "        self.eval()\n",
        "        class_correct = list(0. for i in range(10))\n",
        "        class_total = list(0. for i in range(10))\n",
        "        with torch.no_grad():\n",
        "            for data in loader:\n",
        "                images, labels = data[0].to(get_default_device()), data[1].to(get_default_device())\n",
        "                outputs = self(images)\n",
        "                _, predicted = torch.max(outputs, 1)\n",
        "                c = (predicted == labels).squeeze()\n",
        "                for i in range(4):\n",
        "                    label = labels[i]\n",
        "                    class_correct[label] += c[i].item()\n",
        "                    class_total[label] += 1\n",
        "        for i in range(10):\n",
        "            print('Accuracy of %5s : %2d %%' % (\n",
        "                self.classes[i], 100 * class_correct[i] / class_total[i]))\n",
        "            \n",
        "    # # helper function to un-normalize and display an image        \n",
        "    def show_image(self,loader):\n",
        "        img, label = loader\n",
        "        print('Label: ', self.classes[label], \"(\"+str(label)+\")\")\n",
        "        plt.imshow(img.permute(1,2,0))\n",
        "        \n",
        "    def show_graph(self):\n",
        "        train_accuracies = [x['Train_Acc'] for x in self.stats]\n",
        "        val_accuracies = [x['Val_Acc'] for x in self.stats]  \n",
        "        train_losses = [x['Train_Loss'] for x in self.stats]\n",
        "        val_losses = [x['Val_Loss'] for x in self.stats] \n",
        "        #Loss Graph\n",
        "        plt.figure(figsize=(5, 4))\n",
        "        plt.title(\"Plotting Training/Validation Loss vs Epochs\")\n",
        "        plt.plot(np.arange(self.epoch), val_losses, label = \"Validation Loss\")\n",
        "        plt.plot(np.arange(self.epoch), train_losses, label = \"Training Loss\")\n",
        "        plt.legend()\n",
        "        plt.show()\n",
        "        #Accuracy Graph\n",
        "        plt.figure(figsize=(5, 4))\n",
        "        plt.title(\"Plotting Training/Validation Accuracy  vs Epochs\")\n",
        "        plt.plot(np.arange(self.epoch), val_accuracies, label = \"Validation Accuracy\")\n",
        "        plt.plot(np.arange(self.epoch), train_accuracies, label = \"Training Accuracy\")\n",
        "        plt.legend()\n",
        "        plt.show()\n",
        "\n",
        "    def plot_graph(self,x,last_plot= False):\n",
        "      train_accuracies = [x['Train_Acc'] for x in self.stats]\n",
        "      val_accuracies = [x['Val_Acc'] for x in self.stats]  \n",
        "      train_losses = [x['Train_Loss'] for x in self.stats]\n",
        "      val_losses = [x['Val_Loss'] for x in self.stats] \n",
        "      x = np.arange(x)\n",
        "      pl.close()\n",
        "      pl.figure(figsize=(5, 4))\n",
        "      markersize = 4\n",
        "      # if last_plot:\n",
        "      #   pl.xlim(min(x),max(x)+0.2)\n",
        "      # else:\n",
        "      #   pl.xlim(min(x),self.epoch+0.2)\n",
        "      # pl.ylim((0,2))\n",
        "      print(x,train_accuracies)\n",
        "      pl.plot(x,train_accuracies,color = 'red',linestyle = '--',marker = 'x',markersize = markersize)\n",
        "      pl.plot(x,val_accuracies,color = 'blue',linestyle = '--',marker = 'x',markersize = markersize)\n",
        "      pl.plot(x,train_losses,color = 'green',linestyle = '--',marker = 'x',markersize = markersize)\n",
        "      pl.plot(x,val_losses,color = 'yellow',linestyle = '--',marker = 'x',markersize = markersize)\n",
        "      pl.grid(color ='black',linestyle='--',linewidth=0.5)\n",
        "      pl.legend(['Training Accuracy','Validation Accuracy','Training Loss','Validaion Loss'])\n",
        "      pl.xlabel('Epochs')\n",
        "      pl.title('Stats Visual')\n",
        "      display.clear_output(wait=True)\n",
        "      display.display(pl.gcf())\n",
        "      time.sleep(0.1)\n",
        "\n",
        "class EarlyStopper:\n",
        "    def __init__(self, patience=1, min_delta=0):\n",
        "        self.patience = patience\n",
        "        self.min_delta = min_delta\n",
        "        self.counter = 0\n",
        "        self.min_validation_loss = np.inf\n",
        "\n",
        "    def early_stop(self, validation_loss):\n",
        "        if validation_loss < self.min_validation_loss:\n",
        "            self.min_validation_loss = validation_loss\n",
        "            self.counter = 0\n",
        "        elif validation_loss > (self.min_validation_loss + self.min_delta):\n",
        "            self.counter += 1\n",
        "            if self.counter >= self.patience:\n",
        "                return True\n",
        "        return False"
      ],
      "metadata": {
        "id": "YaP1u4PVCgWv"
      },
      "id": "YaP1u4PVCgWv",
      "execution_count": 59,
      "outputs": []
    },
    {
      "cell_type": "markdown",
      "source": [
        "Show Images in datset"
      ],
      "metadata": {
        "id": "d0AMxu0x71D0"
      },
      "id": "d0AMxu0x71D0"
    },
    {
      "cell_type": "code",
      "source": [
        "import matplotlib.pyplot as plt\n",
        "%matplotlib inline\n",
        "shimg = Imagenet_model1()\n",
        "\n",
        "\n",
        "# def imshow(img):\n",
        "#     img = img / 2 + 0.5  # unnormalize\n",
        "#     plt.imshow(np.transpose(img, (1, 2, 0)))  # convert from Tensor image\n",
        "# # obtain one batch of training images\n",
        "dataiter = iter(shimg.trainloader)\n",
        "images, labels = dataiter.next()\n",
        "# images = images.numpy() # convert images to numpy for display\n",
        "# plot the images in the batch, along with the corresponding labels\n",
        "fig = plt.figure(figsize=(25, 4))\n",
        "# display 20 images\n",
        "for idx in np.arange(20):\n",
        "  ax = fig.add_subplot(2, 20/2, idx+1, xticks=[], yticks=[])\n",
        "  shimg.imshow(images[idx])\n",
        "  ax.set_title(shimg.classes[labels[idx]])"
      ],
      "metadata": {
        "colab": {
          "base_uri": "https://localhost:8080/",
          "height": 359
        },
        "id": "K68OrFksz_IV",
        "outputId": "e2d1f7b1-dcb6-4a7e-9aef-57a295c69d85"
      },
      "id": "K68OrFksz_IV",
      "execution_count": 6,
      "outputs": [
        {
          "output_type": "stream",
          "name": "stdout",
          "text": [
            "Files already downloaded and verified\n",
            "Training Size : 40000\n",
            "Validation Size : 10000\n",
            "Files already downloaded and verified\n",
            "Testing Size : 10000\n"
          ]
        },
        {
          "output_type": "display_data",
          "data": {
            "text/plain": [
              "<Figure size 1800x288 with 20 Axes>"
            ],
            "image/png": "[encoded data removed]"
          },
          "metadata": {}
        }
      ]
    },
    {
      "cell_type": "markdown",
      "source": [
        "Model 1 - Basic CNN/FCNN structure "
      ],
      "metadata": {
        "id": "Bo_jhg-WJOdf"
      },
      "id": "Bo_jhg-WJOdf"
    },
    {
      "cell_type": "code",
      "execution_count": 16,
      "id": "6e9c4229",
      "metadata": {
        "id": "6e9c4229",
        "colab": {
          "base_uri": "https://localhost:8080/"
        },
        "outputId": "6f4a184d-178a-413a-dfdd-bc935da1b6b1"
      },
      "outputs": [
        {
          "output_type": "stream",
          "name": "stdout",
          "text": [
            "Files already downloaded and verified\n",
            "Training Size : 40000\n",
            "Validation Size : 10000\n",
            "Files already downloaded and verified\n",
            "Testing Size : 10000\n",
            "----------------------------------------------------------------\n",
            "        Layer (type)               Output Shape         Param #\n",
            "================================================================\n",
            "            Conv2d-1            [-1, 6, 28, 28]             456\n",
            "         MaxPool2d-2            [-1, 6, 14, 14]               0\n",
            "            Conv2d-3           [-1, 16, 10, 10]           2,416\n",
            "         MaxPool2d-4             [-1, 16, 5, 5]               0\n",
            "            Linear-5                  [-1, 120]          48,120\n",
            "            Linear-6                   [-1, 84]          10,164\n",
            "            Linear-7                   [-1, 10]             850\n",
            "================================================================\n",
            "Total params: 62,006\n",
            "Trainable params: 62,006\n",
            "Non-trainable params: 0\n",
            "----------------------------------------------------------------\n",
            "Input size (MB): 0.01\n",
            "Forward/backward pass size (MB): 0.06\n",
            "Params size (MB): 0.24\n",
            "Estimated Total Size (MB): 0.31\n",
            "----------------------------------------------------------------\n"
          ]
        }
      ],
      "source": [
        "class Imagenet_model1(Basenet):\n",
        "    def __init__(self,dataset=\"CIFAR10\",batch=32,path='./data',splitsize = .2):\n",
        "        super().__init__()\n",
        "        torch.manual_seed(42)\n",
        "        self.shapes = False\n",
        "        #CNN Layer 1\n",
        "        self.conv1 = nn.Conv2d(3, 6, 5)\n",
        "        # self.batchnorm1 = nn.BatchNorm2d(6)\n",
        "        self.pool = nn.MaxPool2d(2, 2)\n",
        "        #CNN Layer 2\n",
        "        self.conv2 = nn.Conv2d(6, 16, 5)\n",
        "        # self.batchnorm2 = nn.BatchNorm2d(16)\n",
        "        #FCNN Layer 1\n",
        "        self.fc1 = nn.Linear(16 * 5 * 5, 120)\n",
        "        #FCNN Layer 2\n",
        "        self.fc2 = nn.Linear(120, 84)\n",
        "        # self.batchnorm3 = nn.BatchNorm1d(84)\n",
        "        #FCNN LAyer 3\n",
        "        self.fc3 = nn.Linear(84, 10)\n",
        "        transform = transforms.Compose([transforms.ToTensor(),\n",
        "                                        transforms.Normalize((0.5, 0.5, 0.5), (0.5, 0.5, 0.5))])\n",
        "        \n",
        "\n",
        "        # #Regularization Parameters\n",
        "        # self.dropout2d = nn.Dropout2d()\n",
        "        # self.dropout1d = nn.Dropout1d()\n",
        "\n",
        "        self.criterion = None\n",
        "        self.optimizer = None\n",
        "        self.stats = []\n",
        "        self.epoch = 0\n",
        "        if dataset== \"CIFAR10\":\n",
        "            batch_size = batch\n",
        "            dataset = torchvision.datasets.CIFAR10(root=path, train=True,\n",
        "                                                    download=True, transform=transform)\n",
        "            val_size = int(len(dataset)*splitsize)\n",
        "            train_size = len(dataset) - val_size\n",
        "            train_set, valid_set = data.random_split(dataset, [train_size, val_size])\n",
        "            self.train_set = train_set\n",
        "            self.trainloader = torch.utils.data.DataLoader(train_set, batch_size=batch_size,\n",
        "                                                      shuffle=True, num_workers=2)\n",
        "            print(\"Training Size :\",len(train_set))\n",
        "            \n",
        "            self.valloader = torch.utils.data.DataLoader(valid_set, batch_size=batch_size,\n",
        "                                                      shuffle=True, num_workers=2)\n",
        "            print(\"Validation Size :\",len(valid_set))\n",
        "            testset = torchvision.datasets.CIFAR10(root=path, train=False,\n",
        "                                                  download=True, transform=transform)\n",
        "            print(\"Testing Size :\",len(testset))\n",
        "            self.testloader = torch.utils.data.DataLoader(testset, batch_size=batch_size,\n",
        "                                                    shuffle=False, num_workers=2)\n",
        "\n",
        "            self.classes = ('plane', 'car', 'bird', 'cat',\n",
        "                      'deer', 'dog', 'frog', 'horse', 'ship', 'truck')\n",
        "\n",
        "    def forward(self, x):\n",
        "        if self.shapes:\n",
        "            print(\"Initial x shape \", x.shape)\n",
        "\n",
        "        #CNN Layer 1\n",
        "        x = self.conv1(x)\n",
        "        # x = self.batchnorm1(x)\n",
        "        x = F.relu(x)\n",
        "        if self.shapes:\n",
        "            print('After conv1, shape of x is ', x.shape)\n",
        "        x = self.pool(x)\n",
        "        if self.shapes:\n",
        "            print('After conv1, shape of x is ', x.shape)\n",
        "        # x = self.pool(F.relu(self.conv1(x)))\n",
        "        # x = self.dropout2d(x)\n",
        "\n",
        "        #CNN Layer 2\n",
        "        x = self.conv2(x)\n",
        "        # x = self.batchnorm2(x)\n",
        "        x = F.relu(x)\n",
        "        if self.shapes:\n",
        "            print('After conv2, shape of x is ', x.shape)\n",
        "        x = self.pool(x)\n",
        "        if self.shapes:\n",
        "            print('After conv2, shape of x is ', x.shape)\n",
        "        # x = self.dropout2d(x)\n",
        "        x = torch.flatten(x, 1) # flatten all dimensions except batch\n",
        "\n",
        "        #FCNN Layer 1\n",
        "        x = self.fc1(x)\n",
        "        x = F.relu(x)\n",
        "        # x = self.dropout1d(x)\n",
        "\n",
        "        #FCNN Layer 2\n",
        "        x = self.fc2(x)\n",
        "        # x = self.batchnorm3(x)\n",
        "        x = F.relu(x)\n",
        "        \n",
        "        #LAst Linear Layer\n",
        "        x = self.fc3(x)\n",
        "        return x\n",
        "# !nvidia-smi\n",
        "temp = Imagenet_model1().to(get_default_device())\n",
        "summary(temp, (3, 32, 32))"
      ]
    },
    {
      "cell_type": "code",
      "execution_count": 19,
      "id": "670c924c",
      "metadata": {
        "colab": {
          "base_uri": "https://localhost:8080/",
          "height": 763
        },
        "id": "670c924c",
        "outputId": "e1b6bf82-db3b-4b61-ba64-71daa58b0213"
      },
      "outputs": [
        {
          "output_type": "stream",
          "name": "stdout",
          "text": [
            "Files already downloaded and verified\n",
            "Training Size : 40000\n",
            "Validation Size : 10000\n",
            "Files already downloaded and verified\n",
            "Testing Size : 10000\n",
            "train\n",
            "Val\n",
            "{'epoch': 1, 'Train_Loss': 1.4533647745132445, 'Train_Acc': 47.175, 'Val_Acc': 46.62, 'Val_Loss': 1.482877562411677}\n",
            "train\n",
            "Val\n",
            "{'epoch': 2, 'Train_Loss': 1.3147672578334808, 'Train_Acc': 52.705, 'Val_Acc': 50.48, 'Val_Loss': 1.3760405479909512}\n",
            "Finished Training\n"
          ]
        },
        {
          "output_type": "display_data",
          "data": {
            "text/plain": [
              "<Figure size 360x288 with 1 Axes>"
            ],
            "image/png": "[encoded data removed]"
          },
          "metadata": {
            "needs_background": "light"
          }
        },
        {
          "output_type": "display_data",
          "data": {
            "text/plain": [
              "<Figure size 360x288 with 1 Axes>"
            ],
            "image/png": "[encoded data removed]"
          },
          "metadata": {
            "needs_background": "light"
          }
        }
      ],
      "source": [
        "#BAtch 20 2 Batch Norms 1-CNN(on 2nd one), 1-FCNN,1 dropout - 2nd cnn\n",
        "model1 = Imagenet_model1()\n",
        "model1=model1.to(get_default_device())\n",
        "#train_model(self,epochs,learning_rt=0.001,optimizer_fn = \"SGD\",mm=0.9)\n",
        "model1.train_model(2,0.01,\"SGD\")\n",
        "model1.show_graph()# batch - 4|'Train_Acc': 39.9925, 'Val_Acc': 39.25||batch 15 'Train_Acc': 47.38, 'Val_Acc': 46.93,|| batch -32 'Train_Acc': 49.2825, 'Val_Acc': 47.89 ||"
      ]
    },
    {
      "cell_type": "code",
      "source": [
        "model1.class_Acc(\"val\")\n",
        "# model1.Accuracy(\"val\")"
      ],
      "metadata": {
        "id": "1nIsMETfnFFk",
        "outputId": "28c68bba-0b69-4178-8375-79e42f2b8363",
        "colab": {
          "base_uri": "https://localhost:8080/",
          "height": 516
        }
      },
      "id": "1nIsMETfnFFk",
      "execution_count": 30,
      "outputs": [
        {
          "output_type": "stream",
          "name": "stdout",
          "text": [
            "val\n",
            "Accuracy of plane : 58 %\n",
            "Accuracy of   car : 66 %\n",
            "Accuracy of  bird : 45 %\n",
            "Accuracy of   cat : 15 %\n",
            "Accuracy of  deer : 28 %\n",
            "Accuracy of   dog : 55 %\n",
            "Accuracy of  frog : 79 %\n",
            "Accuracy of horse : 58 %\n",
            "Accuracy of  ship : 32 %\n",
            "Accuracy of truck : 54 %\n"
          ]
        },
        {
          "output_type": "error",
          "ename": "AttributeError",
          "evalue": "ignored",
          "traceback": [
            "\u001b[0;31m---------------------------------------------------------------------------\u001b[0m",
            "\u001b[0;31mAttributeError\u001b[0m                            Traceback (most recent call last)",
            "\u001b[0;32m<ipython-input-30-f7a619137c34>\u001b[0m in \u001b[0;36m<module>\u001b[0;34m\u001b[0m\n\u001b[1;32m      1\u001b[0m \u001b[0mmodel1\u001b[0m\u001b[0;34m.\u001b[0m\u001b[0mclass_Acc\u001b[0m\u001b[0;34m(\u001b[0m\u001b[0;34m\"val\"\u001b[0m\u001b[0;34m)\u001b[0m\u001b[0;34m\u001b[0m\u001b[0;34m\u001b[0m\u001b[0m\n\u001b[0;32m----> 2\u001b[0;31m \u001b[0mmodel1\u001b[0m\u001b[0;34m.\u001b[0m\u001b[0mAccuracy\u001b[0m\u001b[0;34m(\u001b[0m\u001b[0;34m\"val\"\u001b[0m\u001b[0;34m)\u001b[0m\u001b[0;34m\u001b[0m\u001b[0;34m\u001b[0m\u001b[0m\n\u001b[0m",
            "\u001b[0;32m<ipython-input-15-9c1207313c41>\u001b[0m in \u001b[0;36mAccuracy\u001b[0;34m(self, loader)\u001b[0m\n\u001b[1;32m    113\u001b[0m         \u001b[0;32mwith\u001b[0m \u001b[0mtorch\u001b[0m\u001b[0;34m.\u001b[0m\u001b[0mno_grad\u001b[0m\u001b[0;34m(\u001b[0m\u001b[0;34m)\u001b[0m\u001b[0;34m:\u001b[0m\u001b[0;34m\u001b[0m\u001b[0;34m\u001b[0m\u001b[0m\n\u001b[1;32m    114\u001b[0m             \u001b[0;32mfor\u001b[0m \u001b[0mdata\u001b[0m \u001b[0;32min\u001b[0m \u001b[0mloader\u001b[0m\u001b[0;34m:\u001b[0m\u001b[0;34m\u001b[0m\u001b[0;34m\u001b[0m\u001b[0m\n\u001b[0;32m--> 115\u001b[0;31m                 \u001b[0mimages\u001b[0m\u001b[0;34m,\u001b[0m \u001b[0mlabels\u001b[0m \u001b[0;34m=\u001b[0m \u001b[0mdata\u001b[0m\u001b[0;34m[\u001b[0m\u001b[0;36m0\u001b[0m\u001b[0;34m]\u001b[0m\u001b[0;34m.\u001b[0m\u001b[0mto\u001b[0m\u001b[0;34m(\u001b[0m\u001b[0mget_default_device\u001b[0m\u001b[0;34m(\u001b[0m\u001b[0;34m)\u001b[0m\u001b[0;34m)\u001b[0m\u001b[0;34m,\u001b[0m \u001b[0mdata\u001b[0m\u001b[0;34m[\u001b[0m\u001b[0;36m1\u001b[0m\u001b[0;34m]\u001b[0m\u001b[0;34m.\u001b[0m\u001b[0mto\u001b[0m\u001b[0;34m(\u001b[0m\u001b[0mget_default_device\u001b[0m\u001b[0;34m(\u001b[0m\u001b[0;34m)\u001b[0m\u001b[0;34m)\u001b[0m\u001b[0;34m\u001b[0m\u001b[0;34m\u001b[0m\u001b[0m\n\u001b[0m\u001b[1;32m    116\u001b[0m                 \u001b[0moutputs\u001b[0m \u001b[0;34m=\u001b[0m \u001b[0mself\u001b[0m\u001b[0;34m(\u001b[0m\u001b[0mimages\u001b[0m\u001b[0;34m)\u001b[0m\u001b[0;34m\u001b[0m\u001b[0;34m\u001b[0m\u001b[0m\n\u001b[1;32m    117\u001b[0m                 \u001b[0m_\u001b[0m\u001b[0;34m,\u001b[0m \u001b[0mpredicted\u001b[0m \u001b[0;34m=\u001b[0m \u001b[0mtorch\u001b[0m\u001b[0;34m.\u001b[0m\u001b[0mmax\u001b[0m\u001b[0;34m(\u001b[0m\u001b[0moutputs\u001b[0m\u001b[0;34m.\u001b[0m\u001b[0mdata\u001b[0m\u001b[0;34m,\u001b[0m \u001b[0;36m1\u001b[0m\u001b[0;34m)\u001b[0m\u001b[0;34m\u001b[0m\u001b[0;34m\u001b[0m\u001b[0m\n",
            "\u001b[0;31mAttributeError\u001b[0m: 'str' object has no attribute 'to'"
          ]
        }
      ]
    },
    {
      "cell_type": "markdown",
      "source": [
        "MOdel 2"
      ],
      "metadata": {
        "id": "Th9BuVt8RYZu"
      },
      "id": "Th9BuVt8RYZu"
    },
    {
      "cell_type": "code",
      "source": [
        "class Imagenet_model2(Basenet):\n",
        "    def __init__(self,dataset=\"CIFAR10\",batch=15,path='./data',splitsize = .2):\n",
        "        super().__init__()\n",
        "        torch.manual_seed(42)\n",
        "\n",
        "        self.conv1 = nn.Conv2d(3, 6, 5)\n",
        "        self.batchnorm1 = nn.BatchNorm2d(6)\n",
        "        self.pool = nn.MaxPool2d(2, 2)\n",
        "        self.conv2 = nn.Conv2d(6, 16, 5)\n",
        "        self.batchnorm2 = nn.BatchNorm2d(16)\n",
        "        self.fc1 = nn.Linear(16 * 5 * 5, 120)\n",
        "        self.fc2 = nn.Linear(120, 84)\n",
        "        self.batchnorm3 = nn.BatchNorm1d(84)\n",
        "        self.fc3 = nn.Linear(84, 10)\n",
        "        self.softmax = nn.Softmax(dim=1)\n",
        "        transform = transforms.Compose([transforms.ToTensor(),\n",
        "                                        transforms.Normalize((0.5, 0.5, 0.5), (0.5, 0.5, 0.5))])\n",
        "        \n",
        "\n",
        "        #Regularization Parameters\n",
        "        self.dropout2d = nn.Dropout2d()\n",
        "        self.dropout1d = nn.Dropout1d()\n",
        "\n",
        "        self.criterion = None\n",
        "        self.optimizer = None\n",
        "        self.stats = []\n",
        "        self.epoch = 0\n",
        "        if dataset== \"CIFAR10\":\n",
        "            batch_size = batch\n",
        "            dataset = torchvision.datasets.CIFAR10(root=path, train=True,\n",
        "                                                    download=True, transform=transform)\n",
        "#             trainset = torchvision.datasets.CIFAR10(root=path, train=True,\n",
        "#                                                     download=True, transform=transform)\n",
        "            val_size = int(len(dataset)*splitsize)\n",
        "            train_size = len(dataset) - val_size\n",
        "            train_set, valid_set = data.random_split(dataset, [train_size, val_size])\n",
        "            self.train_set = train_set\n",
        "            self.trainloader = torch.utils.data.DataLoader(train_set, batch_size=batch_size,\n",
        "                                                      shuffle=True, num_workers=2)\n",
        "            print(\"Training Size :\",len(train_set))\n",
        "            \n",
        "            self.valloader = torch.utils.data.DataLoader(valid_set, batch_size=batch_size,\n",
        "                                                      shuffle=True, num_workers=2)\n",
        "            print(\"Validation Size :\",len(valid_set))\n",
        "            testset = torchvision.datasets.CIFAR10(root=path, train=False,\n",
        "                                                  download=True, transform=transform)\n",
        "            print(\"Testing Size :\",len(testset))\n",
        "            self.testloader = torch.utils.data.DataLoader(testset, batch_size=batch_size,\n",
        "                                                    shuffle=False, num_workers=2)\n",
        "\n",
        "            self.classes = ('plane', 'car', 'bird', 'cat',\n",
        "                      'deer', 'dog', 'frog', 'horse', 'ship', 'truck')\n",
        "\n",
        "    def forward(self, x):\n",
        "        #CNN Layer 1\n",
        "        x = self.conv1(x)\n",
        "        x = self.batchnorm1(x)\n",
        "        x = F.relu(x)\n",
        "        x = self.pool(x)\n",
        "        # x = self.pool(F.relu(self.conv1(x)))\n",
        "        # x = self.dropout2d(x)\n",
        "\n",
        "        #CNN Layer 2\n",
        "        x = self.conv2(x)\n",
        "        x = self.batchnorm2(x)\n",
        "        x = F.relu(x)\n",
        "        x = self.pool(x)\n",
        "        x = self.dropout2d(x)\n",
        "\n",
        "\n",
        "        #FCNN layer 1\n",
        "        x = torch.flatten(x, 1) # flatten all dimensions except batch\n",
        "        x = self.fc1(x)\n",
        "        x = F.relu(x)\n",
        "        # x = self.dropout1d(x)\n",
        "\n",
        "        #FCNN layer 2\n",
        "        x = self.fc2(x)\n",
        "        x = self.batchnorm3(x)\n",
        "        x = F.relu(x)\n",
        "\n",
        "        #FCNN layer 3\n",
        "        x = self.fc3(x)\n",
        "\n",
        "        #Linear Layer\n",
        "        x = self.softmax(x)\n",
        "        return x\n",
        "temp = Imagenet_model2().to(get_default_device())\n",
        "summary(temp, (3, 32, 32))"
      ],
      "metadata": {
        "id": "qDBQxq7BQqo4",
        "outputId": "b62e37ff-1f75-4285-a37d-afcf903b3a67",
        "colab": {
          "base_uri": "https://localhost:8080/"
        }
      },
      "id": "qDBQxq7BQqo4",
      "execution_count": 22,
      "outputs": [
        {
          "output_type": "stream",
          "name": "stdout",
          "text": [
            "Files already downloaded and verified\n",
            "Training Size : 40000\n",
            "Validation Size : 10000\n",
            "Files already downloaded and verified\n",
            "Testing Size : 10000\n",
            "----------------------------------------------------------------\n",
            "        Layer (type)               Output Shape         Param #\n",
            "================================================================\n",
            "            Conv2d-1            [-1, 6, 28, 28]             456\n",
            "       BatchNorm2d-2            [-1, 6, 28, 28]              12\n",
            "         MaxPool2d-3            [-1, 6, 14, 14]               0\n",
            "            Conv2d-4           [-1, 16, 10, 10]           2,416\n",
            "       BatchNorm2d-5           [-1, 16, 10, 10]              32\n",
            "         MaxPool2d-6             [-1, 16, 5, 5]               0\n",
            "         Dropout2d-7             [-1, 16, 5, 5]               0\n",
            "            Linear-8                  [-1, 120]          48,120\n",
            "            Linear-9                   [-1, 84]          10,164\n",
            "      BatchNorm1d-10                   [-1, 84]             168\n",
            "           Linear-11                   [-1, 10]             850\n",
            "          Softmax-12                   [-1, 10]               0\n",
            "================================================================\n",
            "Total params: 62,218\n",
            "Trainable params: 62,218\n",
            "Non-trainable params: 0\n",
            "----------------------------------------------------------------\n",
            "Input size (MB): 0.01\n",
            "Forward/backward pass size (MB): 0.11\n",
            "Params size (MB): 0.24\n",
            "Estimated Total Size (MB): 0.36\n",
            "----------------------------------------------------------------\n"
          ]
        }
      ]
    },
    {
      "cell_type": "code",
      "source": [
        "#Just adding SOftmax\n",
        "model2 = Imagenet_model2()\n",
        "model2=model2.to(get_default_device())\n",
        "model2.train_model(5,0.01,\"SGD\")\n",
        "model2.show_graph()\n"
      ],
      "metadata": {
        "colab": {
          "base_uri": "https://localhost:8080/",
          "height": 1000
        },
        "id": "BL-oJMZMtKYM",
        "outputId": "3f01c140-7416-4313-b2a4-73c93987bda9"
      },
      "id": "BL-oJMZMtKYM",
      "execution_count": 23,
      "outputs": [
        {
          "output_type": "stream",
          "name": "stdout",
          "text": [
            "Files already downloaded and verified\n",
            "Training Size : 40000\n",
            "Validation Size : 10000\n",
            "Files already downloaded and verified\n",
            "Testing Size : 10000\n",
            "[1,  2000] loss: 2.181\n",
            "train\n",
            "Val\n",
            "{'epoch': 1, 'Train_Loss': 2.1140726913349166, 'Train_Acc': 34.13, 'Val_Acc': 40.34, 'Val_Loss': 2.059138463891071}\n",
            "[2,  2000] loss: 2.065\n",
            "train\n",
            "Val\n",
            "{'epoch': 2, 'Train_Loss': 2.1223268686361783, 'Train_Acc': 33.0575, 'Val_Acc': 43.27, 'Val_Loss': 2.0324609100907995}\n",
            "[3,  2000] loss: 1.998\n",
            "train\n",
            "Val\n",
            "{'epoch': 3, 'Train_Loss': 2.1128197518635834, 'Train_Acc': 33.765, 'Val_Acc': 47.81, 'Val_Loss': 1.9854161249644038}\n",
            "[4,  2000] loss: 1.961\n",
            "train\n",
            "Val\n",
            "{'epoch': 4, 'Train_Loss': 2.113100668889644, 'Train_Acc': 33.77, 'Val_Acc': 49.72, 'Val_Loss': 1.973561196491636}\n",
            "[5,  2000] loss: 1.931\n",
            "train\n",
            "Val\n",
            "{'epoch': 5, 'Train_Loss': 2.109242358366827, 'Train_Acc': 34.3825, 'Val_Acc': 51.48, 'Val_Loss': 1.9533807923947495}\n",
            "Finished Training\n"
          ]
        },
        {
          "output_type": "display_data",
          "data": {
            "text/plain": [
              "<Figure size 360x288 with 1 Axes>"
            ],
            "image/png": "[encoded data removed]"
          },
          "metadata": {
            "needs_background": "light"
          }
        },
        {
          "output_type": "display_data",
          "data": {
            "text/plain": [
              "<Figure size 360x288 with 1 Axes>"
            ],
            "image/png": "[encoded data removed]"
          },
          "metadata": {
            "needs_background": "light"
          }
        }
      ]
    },
    {
      "cell_type": "code",
      "source": [
        "model2.class_Acc(\"val\")\n",
        "# model2.Accuracy(\"val\")"
      ],
      "metadata": {
        "id": "uD9xak1Fr8N-",
        "outputId": "6345530f-3839-4f7f-c585-f262a8913d50",
        "colab": {
          "base_uri": "https://localhost:8080/"
        }
      },
      "id": "uD9xak1Fr8N-",
      "execution_count": 24,
      "outputs": [
        {
          "output_type": "stream",
          "name": "stdout",
          "text": [
            "val\n",
            "Accuracy of plane : 43 %\n",
            "Accuracy of   car : 61 %\n",
            "Accuracy of  bird : 38 %\n",
            "Accuracy of   cat : 55 %\n",
            "Accuracy of  deer : 47 %\n",
            "Accuracy of   dog : 33 %\n",
            "Accuracy of  frog : 67 %\n",
            "Accuracy of horse : 49 %\n",
            "Accuracy of  ship : 72 %\n",
            "Accuracy of truck : 51 %\n"
          ]
        }
      ]
    },
    {
      "cell_type": "code",
      "execution_count": 51,
      "id": "80696cbc",
      "metadata": {
        "colab": {
          "base_uri": "https://localhost:8080/"
        },
        "id": "80696cbc",
        "outputId": "eb021a21-7332-4e81-e53f-8359e4fb12d6"
      },
      "outputs": [
        {
          "output_type": "stream",
          "name": "stdout",
          "text": [
            "Files already downloaded and verified\n",
            "Training Size : 40000\n",
            "Validation Size : 10000\n",
            "Files already downloaded and verified\n",
            "Testing Size : 10000\n",
            "----------------------------------------------------------------\n",
            "        Layer (type)               Output Shape         Param #\n",
            "================================================================\n",
            "            Conv2d-1            [-1, 6, 28, 28]             456\n",
            "         MaxPool2d-2            [-1, 6, 14, 14]               0\n",
            "            Conv2d-3           [-1, 16, 10, 10]           2,416\n",
            "         MaxPool2d-4             [-1, 16, 5, 5]               0\n",
            "            Linear-5                  [-1, 120]          48,120\n",
            "         Dropout1d-6                  [-1, 120]               0\n",
            "            Linear-7                   [-1, 84]          10,164\n",
            "            Linear-8                   [-1, 10]             850\n",
            "           Softmax-9                   [-1, 10]               0\n",
            "================================================================\n",
            "Total params: 62,006\n",
            "Trainable params: 62,006\n",
            "Non-trainable params: 0\n",
            "----------------------------------------------------------------\n",
            "Input size (MB): 0.01\n",
            "Forward/backward pass size (MB): 0.06\n",
            "Params size (MB): 0.24\n",
            "Estimated Total Size (MB): 0.31\n",
            "----------------------------------------------------------------\n"
          ]
        }
      ],
      "source": [
        "class Imagenet_model3(Basenet):\n",
        "    def __init__(self,dataset=\"CIFAR10\",batch=15,path='./data',splitsize = .2):\n",
        "        super().__init__()\n",
        "        torch.manual_seed(42)\n",
        "        self.shapes = False\n",
        "        #CNN Layer 1\n",
        "        self.conv1 = nn.Conv2d(3, 6, 5)\n",
        "        self.pool = nn.MaxPool2d(2, 2)\n",
        "        #CNN Layer 2\n",
        "        self.conv2 = nn.Conv2d(6, 16, 5)\n",
        "        self.pool = nn.MaxPool2d(2, 2)\n",
        "        #FCNN Layer 1\n",
        "        self.fc1 = nn.Linear(16 * 5 * 5, 120)\n",
        "\n",
        "        #FCNN Layer 2\n",
        "        self.fc2 = nn.Linear(120, 84)\n",
        "\n",
        "        #FCNN LAyer 3\n",
        "        self.fc3 = nn.Linear(84, 10)\n",
        "        self.softmax = nn.Softmax(dim=1)\n",
        "        transform = transforms.Compose([transforms.ToTensor(),\n",
        "                                        transforms.Normalize((0.5, 0.5, 0.5), (0.5, 0.5, 0.5))])\n",
        "        \n",
        "\n",
        "        # #Regularization Parameters\n",
        "        self.dropout2d = nn.Dropout2d(.2)\n",
        "        self.dropout1d = nn.Dropout1d(.5)\n",
        "\n",
        "        self.criterion = None\n",
        "        self.optimizer = None\n",
        "        self.stats = []\n",
        "        self.epoch = 0\n",
        "        if dataset== \"CIFAR10\":\n",
        "            batch_size = batch\n",
        "            dataset = torchvision.datasets.CIFAR10(root=path, train=True,\n",
        "                                                    download=True, transform=transform)\n",
        "            val_size = int(len(dataset)*splitsize)\n",
        "            train_size = len(dataset) - val_size\n",
        "            train_set, valid_set = data.random_split(dataset, [train_size, val_size])\n",
        "            self.train_set = train_set\n",
        "            self.trainloader = torch.utils.data.DataLoader(train_set, batch_size=batch_size,\n",
        "                                                      shuffle=True, num_workers=2)\n",
        "            print(\"Training Size :\",len(train_set))\n",
        "            \n",
        "            self.valloader = torch.utils.data.DataLoader(valid_set, batch_size=batch_size,\n",
        "                                                      shuffle=True, num_workers=2)\n",
        "            print(\"Validation Size :\",len(valid_set))\n",
        "            testset = torchvision.datasets.CIFAR10(root=path, train=False,\n",
        "                                                  download=True, transform=transform)\n",
        "            print(\"Testing Size :\",len(testset))\n",
        "            self.testloader = torch.utils.data.DataLoader(testset, batch_size=batch_size,\n",
        "                                                    shuffle=False, num_workers=2)\n",
        "\n",
        "            self.classes = ('plane', 'car', 'bird', 'cat',\n",
        "                      'deer', 'dog', 'frog', 'horse', 'ship', 'truck')\n",
        "\n",
        "    def forward(self, x):\n",
        "        if self.shapes:\n",
        "            print(\"Initial x shape \", x.shape)\n",
        "\n",
        "        #CNN Layer 1\n",
        "        x = self.conv1(x)\n",
        "        x = F.relu(x)\n",
        "        if self.shapes:\n",
        "            print('After conv1, shape of x is ', x.shape)\n",
        "        x = self.pool(x)\n",
        "        if self.shapes:\n",
        "            print('After conv1, shape of x is ', x.shape)\n",
        "\n",
        "        # x = self.pool(F.relu(self.conv1(x)))\n",
        "        # x = self.dropout2d(x)\n",
        "\n",
        "        #CNN Layer 2\n",
        "        x = self.conv2(x)\n",
        "        x = F.relu(x)\n",
        "        if self.shapes:\n",
        "            print('After conv2, shape of x is ', x.shape)\n",
        "        x = self.pool(x)\n",
        "        if self.shapes:\n",
        "            print('After conv2, shape of x is ', x.shape)\n",
        "        # x = self.dropout2d(x)\n",
        "\n",
        "        # flatten all dimensions except batch\n",
        "        x = torch.flatten(x, 1) \n",
        "\n",
        "        #FCNN Layer 1\n",
        "        x = self.fc1(x)\n",
        "        x = F.relu(x)\n",
        "        x = self.dropout1d(x)\n",
        "\n",
        "        #FCNN Layer 2\n",
        "        x = self.fc2(x)\n",
        "        # x = self.batchnorm3(x)\n",
        "        x = F.relu(x)\n",
        "        # x = self.dropout1d(x)\n",
        "        #LAst Linear Layer\n",
        "        x = self.fc3(x)\n",
        "        x = self.softmax(x)\n",
        "        return x\n",
        "# !nvidia-smi\n",
        "temp = Imagenet_model3().to(get_default_device())\n",
        "summary(temp, (3, 32, 32))"
      ]
    },
    {
      "cell_type": "code",
      "source": [
        "#Batch - 256 | Sgd |Lr = 0.005\n",
        "model3 = Imagenet_model3()\n",
        "model3=model3.to(get_default_device())\n",
        "model3.train_model(5,0.01,\"SGD\")\n",
        "model3.show_graph()"
      ],
      "metadata": {
        "id": "-qRaQstiXUxE",
        "colab": {
          "base_uri": "https://localhost:8080/",
          "height": 1000
        },
        "outputId": "e2015ab6-0542-441e-c250-44d8dca9d28a"
      },
      "id": "-qRaQstiXUxE",
      "execution_count": 52,
      "outputs": [
        {
          "output_type": "stream",
          "name": "stdout",
          "text": [
            "Files already downloaded and verified\n",
            "Training Size : 40000\n",
            "Validation Size : 10000\n",
            "Files already downloaded and verified\n",
            "Testing Size : 10000\n",
            "[1,  2000] loss: 2.280\n",
            "train\n",
            "Val\n",
            "{'epoch': 1, 'Train_Loss': 2.2214336211555317, 'Train_Acc': 20.5575, 'Val_Acc': 30.89, 'Val_Loss': 2.1597248087043703}\n",
            "[2,  2000] loss: 2.110\n",
            "train\n",
            "Val\n",
            "{'epoch': 2, 'Train_Loss': 2.1916825583153643, 'Train_Acc': 23.7975, 'Val_Acc': 36.57, 'Val_Loss': 2.0849964016381053}\n",
            "[3,  2000] loss: 2.077\n",
            "train\n",
            "Val\n",
            "{'epoch': 3, 'Train_Loss': 2.188353446033236, 'Train_Acc': 24.24, 'Val_Acc': 38.1, 'Val_Loss': 2.074621688837054}\n",
            "[4,  2000] loss: 2.091\n",
            "train\n",
            "Val\n",
            "{'epoch': 4, 'Train_Loss': 2.28528113520722, 'Train_Acc': 14.6575, 'Val_Acc': 19.29, 'Val_Loss': 2.2679145237852607}\n",
            "[5,  2000] loss: 2.228\n",
            "train\n",
            "Val\n",
            "{'epoch': 5, 'Train_Loss': 2.291486591581195, 'Train_Acc': 14.0975, 'Val_Acc': 18.39, 'Val_Loss': 2.2771121899763505}\n",
            "Finished Training\n"
          ]
        },
        {
          "output_type": "display_data",
          "data": {
            "text/plain": [
              "<Figure size 360x288 with 1 Axes>"
            ],
            "image/png": "[encoded data removed]"
          },
          "metadata": {
            "needs_background": "light"
          }
        },
        {
          "output_type": "display_data",
          "data": {
            "text/plain": [
              "<Figure size 360x288 with 1 Axes>"
            ],
            "image/png": "[encoded data removed]"
          },
          "metadata": {
            "needs_background": "light"
          }
        }
      ]
    },
    {
      "cell_type": "code",
      "source": [
        "model3.class_Acc(\"val\")\n",
        "# model3.Accuracy(\"val\")"
      ],
      "metadata": {
        "id": "lAIcsIz0s7AU",
        "outputId": "6565195c-aafd-4288-f21c-66b063c25bcd",
        "colab": {
          "base_uri": "https://localhost:8080/"
        }
      },
      "id": "lAIcsIz0s7AU",
      "execution_count": 34,
      "outputs": [
        {
          "output_type": "stream",
          "name": "stdout",
          "text": [
            "val\n",
            "Accuracy of plane :  0 %\n",
            "Accuracy of   car :  0 %\n",
            "Accuracy of  bird :  0 %\n",
            "Accuracy of   cat :  0 %\n",
            "Accuracy of  deer :  0 %\n",
            "Accuracy of   dog :  0 %\n",
            "Accuracy of  frog :  0 %\n",
            "Accuracy of horse : 28 %\n",
            "Accuracy of  ship : 97 %\n",
            "Accuracy of truck :  0 %\n"
          ]
        }
      ]
    },
    {
      "cell_type": "code",
      "source": [
        "class Imagenet_model4(Basenet):\n",
        "    def __init__(self,dataset=\"CIFAR10\",batch=32,path='./data',splitsize = .2):\n",
        "        super().__init__()\n",
        "        # convolutional layer\n",
        "        self.conv1 = nn.Conv2d(3, 16, 3, padding=1)\n",
        "        self.batchnorm1 = nn.BatchNorm2d(16)\n",
        "        self.conv2 = nn.Conv2d(16, 32, 3, padding=1)\n",
        "        self.batchnorm2 = nn.BatchNorm2d(32)\n",
        "        self.conv3 = nn.Conv2d(32, 64, 3, padding=1)\n",
        "        self.batchnorm3 = nn.BatchNorm2d(64)\n",
        "        # max pooling layer\n",
        "        self.pool = nn.MaxPool2d(2, 2)\n",
        "        # fully connected layers\n",
        "        self.fc1 = nn.Linear(64 * 4 * 4, 512)\n",
        "        self.fc2 = nn.Linear(512, 64)\n",
        "        self.fc3 = nn.Linear(64, 10)\n",
        "        # dropout\n",
        "        self.dropout = nn.Dropout(p=.5)\n",
        "        self.criterion = None\n",
        "        self.optimizer = None\n",
        "        self.stats = []\n",
        "        self.epoch = 0\n",
        "        transform = transforms.Compose([transforms.ToTensor(),\n",
        "                                        transforms.Normalize((0.5, 0.5, 0.5), (0.5, 0.5, 0.5))])\n",
        "\n",
        "        if dataset== \"CIFAR10\":\n",
        "            batch_size = batch\n",
        "            dataset = torchvision.datasets.CIFAR10(root=path, train=True,\n",
        "                                                    download=True, transform=transform)\n",
        "            val_size = int(len(dataset)*splitsize)\n",
        "            train_size = len(dataset) - val_size\n",
        "            train_set, valid_set = data.random_split(dataset, [train_size, val_size])\n",
        "            self.train_set = train_set\n",
        "            self.trainloader = torch.utils.data.DataLoader(train_set, batch_size=batch_size,\n",
        "                                                      shuffle=True, num_workers=2)\n",
        "            print(\"Training Size :\",len(train_set))\n",
        "            \n",
        "            self.valloader = torch.utils.data.DataLoader(valid_set, batch_size=batch_size,\n",
        "                                                      shuffle=True, num_workers=2)\n",
        "            print(\"Validation Size :\",len(valid_set))\n",
        "            testset = torchvision.datasets.CIFAR10(root=path, train=False,\n",
        "                                                  download=True, transform=transform)\n",
        "            print(\"Testing Size :\",len(testset))\n",
        "            self.testloader = torch.utils.data.DataLoader(testset, batch_size=batch_size,\n",
        "                                                    shuffle=False, num_workers=2)\n",
        "\n",
        "            self.classes = ('plane', 'car', 'bird', 'cat',\n",
        "                      'deer', 'dog', 'frog', 'horse', 'ship', 'truck')\n",
        "\n",
        "    def forward(self, x):\n",
        "        # add sequence of convolutional and max pooling layers\n",
        "        x = self.pool(F.relu(self.batchnorm1(self.conv1(x))))\n",
        "        x = self.pool(F.relu(self.batchnorm2(self.conv2(x))))\n",
        "        x = self.pool(F.relu(self.batchnorm3(self.conv3(x))))\n",
        "        # flattening\n",
        "        x = x.view(-1, 64 * 4 * 4)\n",
        "        # fully connected layers\n",
        "        x = self.dropout(F.relu(self.fc1(x)))\n",
        "        x = F.relu(self.fc2(x))\n",
        "        x = self.fc3(x)\n",
        "        return x\n",
        "temp = Imagenet_model4().to(get_default_device())\n",
        "summary(temp, (3, 32, 32))"
      ],
      "metadata": {
        "id": "fdOANFcn-DQ4",
        "outputId": "b872fce2-f94c-4db2-a13a-dc3eee82aa99",
        "colab": {
          "base_uri": "https://localhost:8080/"
        }
      },
      "id": "fdOANFcn-DQ4",
      "execution_count": 62,
      "outputs": [
        {
          "output_type": "stream",
          "name": "stdout",
          "text": [
            "Files already downloaded and verified\n",
            "Training Size : 40000\n",
            "Validation Size : 10000\n",
            "Files already downloaded and verified\n",
            "Testing Size : 10000\n",
            "----------------------------------------------------------------\n",
            "        Layer (type)               Output Shape         Param #\n",
            "================================================================\n",
            "            Conv2d-1           [-1, 16, 32, 32]             448\n",
            "       BatchNorm2d-2           [-1, 16, 32, 32]              32\n",
            "         MaxPool2d-3           [-1, 16, 16, 16]               0\n",
            "            Conv2d-4           [-1, 32, 16, 16]           4,640\n",
            "       BatchNorm2d-5           [-1, 32, 16, 16]              64\n",
            "         MaxPool2d-6             [-1, 32, 8, 8]               0\n",
            "            Conv2d-7             [-1, 64, 8, 8]          18,496\n",
            "       BatchNorm2d-8             [-1, 64, 8, 8]             128\n",
            "         MaxPool2d-9             [-1, 64, 4, 4]               0\n",
            "           Linear-10                  [-1, 512]         524,800\n",
            "          Dropout-11                  [-1, 512]               0\n",
            "           Linear-12                   [-1, 64]          32,832\n",
            "           Linear-13                   [-1, 10]             650\n",
            "================================================================\n",
            "Total params: 582,090\n",
            "Trainable params: 582,090\n",
            "Non-trainable params: 0\n",
            "----------------------------------------------------------------\n",
            "Input size (MB): 0.01\n",
            "Forward/backward pass size (MB): 0.50\n",
            "Params size (MB): 2.22\n",
            "Estimated Total Size (MB): 2.73\n",
            "----------------------------------------------------------------\n"
          ]
        }
      ]
    },
    {
      "cell_type": "code",
      "source": [
        "model4 = Imagenet_model4()\n",
        "model4=model4.to(get_default_device())\n",
        "model4.train_model(15,0.001,\"SGD\")\n",
        "model4.show_graph()"
      ],
      "metadata": {
        "id": "amxNmZ8MzOJi",
        "outputId": "4e0ea20b-8f51-4afa-9775-c7fa749f11b6",
        "colab": {
          "base_uri": "https://localhost:8080/"
        }
      },
      "id": "amxNmZ8MzOJi",
      "execution_count": null,
      "outputs": [
        {
          "output_type": "stream",
          "name": "stdout",
          "text": [
            "Files already downloaded and verified\n",
            "Training Size : 40000\n",
            "Validation Size : 10000\n",
            "Files already downloaded and verified\n",
            "Testing Size : 10000\n",
            "train\n",
            "Val\n",
            "{'epoch': 1, 'Train_Loss': 1.426036121749878, 'Train_Acc': 47.3925, 'Val_Acc': 50.35, 'Val_Loss': 1.3616804775719444}\n"
          ]
        }
      ]
    },
    {
      "cell_type": "code",
      "source": [
        "model4.class_Acc(\"val\")"
      ],
      "metadata": {
        "id": "v_mMCq8gAPIj",
        "outputId": "8822f13a-00c3-4d60-accb-09293285fd9e",
        "colab": {
          "base_uri": "https://localhost:8080/"
        }
      },
      "id": "v_mMCq8gAPIj",
      "execution_count": 61,
      "outputs": [
        {
          "output_type": "stream",
          "name": "stdout",
          "text": [
            "val\n",
            "Accuracy of plane : 66 %\n",
            "Accuracy of   car : 74 %\n",
            "Accuracy of  bird : 84 %\n",
            "Accuracy of   cat : 61 %\n",
            "Accuracy of  deer : 81 %\n",
            "Accuracy of   dog : 47 %\n",
            "Accuracy of  frog : 72 %\n",
            "Accuracy of horse : 54 %\n",
            "Accuracy of  ship : 89 %\n",
            "Accuracy of truck : 58 %\n"
          ]
        }
      ]
    },
    {
      "cell_type": "markdown",
      "source": [
        "Awesome MOdel  from https://shonit2096.medium.com/cnn-on-cifar10-data-set-using-pytorch-34be87e09844\n",
        "\n",
        "class CNN(nn.Module):\n"
      ],
      "metadata": {
        "id": "CTRErcHsMOOm"
      },
      "id": "CTRErcHsMOOm"
    },
    {
      "cell_type": "code",
      "source": [],
      "metadata": {
        "id": "l8ja5vyHMqmw"
      },
      "id": "l8ja5vyHMqmw",
      "execution_count": null,
      "outputs": []
    },
    {
      "cell_type": "markdown",
      "source": [
        "Resnet -18 Transfer Learning"
      ],
      "metadata": {
        "id": "cQjdchO9RJI6"
      },
      "id": "cQjdchO9RJI6"
    },
    {
      "cell_type": "code",
      "source": [
        "from torchvision import models\n",
        "from torchvision.models import ResNet18_Weights\n",
        "class resnet_18(Basenet):\n",
        "    def __init__(self,dataset=\"CIFAR10\",batch=15,path='./data',splitsize = .2):\n",
        "        super().__init__()\n",
        "        torch.manual_seed(42)\n",
        "        self.network = models.resnet18(pretrained=True)\n",
        "        \n",
        "        # transform = transforms.Compose([transforms.Resize((224,224)),transforms.ToTensor(),\n",
        "        #                                 transforms.Normalize((0.5, 0.5, 0.5), (0.5, 0.5, 0.5))])\n",
        "        # transform = transforms.Compose([transforms.Resize((224,224)),transforms.ToTensor(), transforms.Normalize(mean=[0.485,0.456,0.406],std=[0.229,0.224,0.225])])\n",
        "        self.criterion = None\n",
        "        self.optimizer = None\n",
        "        self.stats = []\n",
        "        self.epoch = 0\n",
        "        if dataset== \"CIFAR10\":\n",
        "            batch_size = batch\n",
        "            dataset = torchvision.datasets.CIFAR10(root=path, train=True,\n",
        "                                                    download=True, transform=ResNet18_Weights.DEFAULT.transforms())\n",
        "            val_size = int(len(dataset)*splitsize)\n",
        "            train_size = len(dataset) - val_size\n",
        "            train_set, valid_set = data.random_split(dataset, [train_size, val_size])\n",
        "            self.train_set = train_set\n",
        "            self.trainloader = torch.utils.data.DataLoader(train_set, batch_size=batch_size,\n",
        "                                                      shuffle=True, num_workers=2)\n",
        "            print(\"Training Size :\",len(train_set))\n",
        "            \n",
        "            self.valloader = torch.utils.data.DataLoader(valid_set, batch_size=batch_size,\n",
        "                                                      shuffle=True, num_workers=2)\n",
        "            print(\"Validation Size :\",len(valid_set))\n",
        "            testset = torchvision.datasets.CIFAR10(root=path, train=False,\n",
        "                                                  download=True, transform=ResNet18_Weights.DEFAULT.transforms())\n",
        "            print(\"Testing Size :\",len(testset))\n",
        "            self.testloader = torch.utils.data.DataLoader(testset, batch_size=batch_size,\n",
        "                                                    shuffle=False, num_workers=2)\n",
        "\n",
        "            self.classes = ('plane', 'car', 'bird', 'cat',\n",
        "                      'deer', 'dog', 'frog', 'horse', 'ship', 'truck')\n",
        "    def forward(self,x):\n",
        "      return self.network(x)\n",
        "temp = resnet_18().to(get_default_device())\n",
        "summary(temp, (3, 32, 32))\n",
        "# print(temp)"
      ],
      "metadata": {
        "colab": {
          "base_uri": "https://localhost:8080/",
          "height": 1000,
          "referenced_widgets": [
            "a15f3335c0594359b89787ef1d1509e3",
            "78ce5f43528e45a0b9ac7cf87d20db0c",
            "fac25381f3274ef0abd4b833428c450d",
            "7c5b7cb11b93468f87c19d0aaebb9982",
            "d013bce224fe43b4807979964c35218a",
            "ad622107ca6844f3a633ce96e11b63a9",
            "d279b774903346da90b103f8722c93a6",
            "348e779bc72541bbbc9d6383ad8f47ed",
            "a88f5721bd844c1ba1c8caf89de3b8b2",
            "89363cd15ba44f08b5eb64b272d52182",
            "548337db42074b4a9b59503f68c986c6"
          ]
        },
        "id": "Xt4ddiyCRHvX",
        "outputId": "0eff79ee-0107-4c95-baf6-e8302e0cbb10"
      },
      "id": "Xt4ddiyCRHvX",
      "execution_count": null,
      "outputs": [
        {
          "output_type": "stream",
          "name": "stderr",
          "text": [
            "/usr/local/lib/python3.7/dist-packages/torchvision/models/_utils.py:209: UserWarning: The parameter 'pretrained' is deprecated since 0.13 and will be removed in 0.15, please use 'weights' instead.\n",
            "  f\"The parameter '{pretrained_param}' is deprecated since 0.13 and will be removed in 0.15, \"\n",
            "/usr/local/lib/python3.7/dist-packages/torchvision/models/_utils.py:223: UserWarning: Arguments other than a weight enum or `None` for 'weights' are deprecated since 0.13 and will be removed in 0.15. The current behavior is equivalent to passing `weights=ResNet18_Weights.IMAGENET1K_V1`. You can also use `weights=ResNet18_Weights.DEFAULT` to get the most up-to-date weights.\n",
            "  warnings.warn(msg)\n",
            "Downloading: \"https://download.pytorch.org/models/resnet18-f37072fd.pth\" to /root/.cache/torch/hub/checkpoints/resnet18-f37072fd.pth\n"
          ]
        },
        {
          "output_type": "display_data",
          "data": {
            "text/plain": [
              "  0%|          | 0.00/44.7M [00:00<?, ?B/s]"
            ],
            "application/vnd.jupyter.widget-view+json": {
              "version_major": 2,
              "version_minor": 0,
              "model_id": "a15f3335c0594359b89787ef1d1509e3"
            }
          },
          "metadata": {}
        },
        {
          "output_type": "stream",
          "name": "stdout",
          "text": [
            "Files already downloaded and verified\n",
            "Training Size : 40000\n",
            "Validation Size : 10000\n",
            "Files already downloaded and verified\n",
            "Testing Size : 10000\n",
            "----------------------------------------------------------------\n",
            "        Layer (type)               Output Shape         Param #\n",
            "================================================================\n",
            "            Conv2d-1           [-1, 64, 16, 16]           9,408\n",
            "       BatchNorm2d-2           [-1, 64, 16, 16]             128\n",
            "              ReLU-3           [-1, 64, 16, 16]               0\n",
            "         MaxPool2d-4             [-1, 64, 8, 8]               0\n",
            "            Conv2d-5             [-1, 64, 8, 8]          36,864\n",
            "       BatchNorm2d-6             [-1, 64, 8, 8]             128\n",
            "              ReLU-7             [-1, 64, 8, 8]               0\n",
            "            Conv2d-8             [-1, 64, 8, 8]          36,864\n",
            "       BatchNorm2d-9             [-1, 64, 8, 8]             128\n",
            "             ReLU-10             [-1, 64, 8, 8]               0\n",
            "       BasicBlock-11             [-1, 64, 8, 8]               0\n",
            "           Conv2d-12             [-1, 64, 8, 8]          36,864\n",
            "      BatchNorm2d-13             [-1, 64, 8, 8]             128\n",
            "             ReLU-14             [-1, 64, 8, 8]               0\n",
            "           Conv2d-15             [-1, 64, 8, 8]          36,864\n",
            "      BatchNorm2d-16             [-1, 64, 8, 8]             128\n",
            "             ReLU-17             [-1, 64, 8, 8]               0\n",
            "       BasicBlock-18             [-1, 64, 8, 8]               0\n",
            "           Conv2d-19            [-1, 128, 4, 4]          73,728\n",
            "      BatchNorm2d-20            [-1, 128, 4, 4]             256\n",
            "             ReLU-21            [-1, 128, 4, 4]               0\n",
            "           Conv2d-22            [-1, 128, 4, 4]         147,456\n",
            "      BatchNorm2d-23            [-1, 128, 4, 4]             256\n",
            "           Conv2d-24            [-1, 128, 4, 4]           8,192\n",
            "      BatchNorm2d-25            [-1, 128, 4, 4]             256\n",
            "             ReLU-26            [-1, 128, 4, 4]               0\n",
            "       BasicBlock-27            [-1, 128, 4, 4]               0\n",
            "           Conv2d-28            [-1, 128, 4, 4]         147,456\n",
            "      BatchNorm2d-29            [-1, 128, 4, 4]             256\n",
            "             ReLU-30            [-1, 128, 4, 4]               0\n",
            "           Conv2d-31            [-1, 128, 4, 4]         147,456\n",
            "      BatchNorm2d-32            [-1, 128, 4, 4]             256\n",
            "             ReLU-33            [-1, 128, 4, 4]               0\n",
            "       BasicBlock-34            [-1, 128, 4, 4]               0\n",
            "           Conv2d-35            [-1, 256, 2, 2]         294,912\n",
            "      BatchNorm2d-36            [-1, 256, 2, 2]             512\n",
            "             ReLU-37            [-1, 256, 2, 2]               0\n",
            "           Conv2d-38            [-1, 256, 2, 2]         589,824\n",
            "      BatchNorm2d-39            [-1, 256, 2, 2]             512\n",
            "           Conv2d-40            [-1, 256, 2, 2]          32,768\n",
            "      BatchNorm2d-41            [-1, 256, 2, 2]             512\n",
            "             ReLU-42            [-1, 256, 2, 2]               0\n",
            "       BasicBlock-43            [-1, 256, 2, 2]               0\n",
            "           Conv2d-44            [-1, 256, 2, 2]         589,824\n",
            "      BatchNorm2d-45            [-1, 256, 2, 2]             512\n",
            "             ReLU-46            [-1, 256, 2, 2]               0\n",
            "           Conv2d-47            [-1, 256, 2, 2]         589,824\n",
            "      BatchNorm2d-48            [-1, 256, 2, 2]             512\n",
            "             ReLU-49            [-1, 256, 2, 2]               0\n",
            "       BasicBlock-50            [-1, 256, 2, 2]               0\n",
            "           Conv2d-51            [-1, 512, 1, 1]       1,179,648\n",
            "      BatchNorm2d-52            [-1, 512, 1, 1]           1,024\n",
            "             ReLU-53            [-1, 512, 1, 1]               0\n",
            "           Conv2d-54            [-1, 512, 1, 1]       2,359,296\n",
            "      BatchNorm2d-55            [-1, 512, 1, 1]           1,024\n",
            "           Conv2d-56            [-1, 512, 1, 1]         131,072\n",
            "      BatchNorm2d-57            [-1, 512, 1, 1]           1,024\n",
            "             ReLU-58            [-1, 512, 1, 1]               0\n",
            "       BasicBlock-59            [-1, 512, 1, 1]               0\n",
            "           Conv2d-60            [-1, 512, 1, 1]       2,359,296\n",
            "      BatchNorm2d-61            [-1, 512, 1, 1]           1,024\n",
            "             ReLU-62            [-1, 512, 1, 1]               0\n",
            "           Conv2d-63            [-1, 512, 1, 1]       2,359,296\n",
            "      BatchNorm2d-64            [-1, 512, 1, 1]           1,024\n",
            "             ReLU-65            [-1, 512, 1, 1]               0\n",
            "       BasicBlock-66            [-1, 512, 1, 1]               0\n",
            "AdaptiveAvgPool2d-67            [-1, 512, 1, 1]               0\n",
            "           Linear-68                 [-1, 1000]         513,000\n",
            "           ResNet-69                 [-1, 1000]               0\n",
            "================================================================\n",
            "Total params: 11,689,512\n",
            "Trainable params: 11,689,512\n",
            "Non-trainable params: 0\n",
            "----------------------------------------------------------------\n",
            "Input size (MB): 0.01\n",
            "Forward/backward pass size (MB): 1.30\n",
            "Params size (MB): 44.59\n",
            "Estimated Total Size (MB): 45.90\n",
            "----------------------------------------------------------------\n"
          ]
        }
      ]
    },
    {
      "cell_type": "code",
      "source": [
        "model_resnet = resnet_18()\n",
        "# num_ftrs = model_resnet.fc.in_features\n",
        "model_resnet.fc = nn.Linear(512, 10)\n",
        "model_resnet=model_resnet.to(get_default_device())\n",
        "model_resnet.train_model(5,0.001,\"SGD\")\n",
        "model_resnet.show_graph()"
      ],
      "metadata": {
        "colab": {
          "base_uri": "https://localhost:8080/",
          "height": 835
        },
        "id": "BUAN7xo8ei4f",
        "outputId": "adc0b8f5-1452-4679-81b4-10d55ac4eaee"
      },
      "id": "BUAN7xo8ei4f",
      "execution_count": null,
      "outputs": [
        {
          "output_type": "stream",
          "name": "stdout",
          "text": [
            "Files already downloaded and verified\n",
            "Training Size : 40000\n",
            "Validation Size : 10000\n",
            "Files already downloaded and verified\n",
            "Testing Size : 10000\n",
            "[1,  2000] loss: 0.703\n",
            "{'epoch': 1, 'Train_Loss': 0.25126385907556986, 'Train_Acc': 91.61, 'Val_Acc': 87.9, 'Val_Loss': 0.3554010240199125}\n",
            "[2,  2000] loss: 0.231\n",
            "{'epoch': 2, 'Train_Loss': 0.15348576410969683, 'Train_Acc': 94.6775, 'Val_Acc': 89.56, 'Val_Loss': 0.3118012480757505}\n",
            "[3,  2000] loss: 0.130\n",
            "{'epoch': 3, 'Train_Loss': 0.08110631237969443, 'Train_Acc': 97.3525, 'Val_Acc': 90.54, 'Val_Loss': 0.2903403858420323}\n",
            "[4,  2000] loss: 0.079\n",
            "{'epoch': 4, 'Train_Loss': 0.05281313419424556, 'Train_Acc': 98.2525, 'Val_Acc': 91.34, 'Val_Loss': 0.27427512042296315}\n",
            "[5,  2000] loss: 0.053\n",
            "{'epoch': 5, 'Train_Loss': 0.03953851285087688, 'Train_Acc': 98.7525, 'Val_Acc': 91.82, 'Val_Loss': 0.2700732319842329}\n",
            "Finished Training\n"
          ]
        },
        {
          "output_type": "display_data",
          "data": {
            "text/plain": [
              "<Figure size 360x288 with 1 Axes>"
            ],
            "image/png": "[encoded data removed]"
          },
          "metadata": {
            "needs_background": "light"
          }
        },
        {
          "output_type": "display_data",
          "data": {
            "text/plain": [
              "<Figure size 360x288 with 1 Axes>"
            ],
            "image/png": "[encoded data removed]"
          },
          "metadata": {
            "needs_background": "light"
          }
        }
      ]
    },
    {
      "cell_type": "code",
      "source": [
        "model_resnet_A = resnet_18()\n",
        "# num_ftrs = model_resnet.fc.in_features\n",
        "model_resnet_A.fc = nn.Linear(512, 10)\n",
        "model_resnet_A=model_resnet_A.to(get_default_device())\n",
        "model_resnet_A.train_model(5,0.001,\"Adam\")\n",
        "model_resnet_A.show_graph()"
      ],
      "metadata": {
        "id": "9sl2odeOl6ok",
        "outputId": "dbd9374a-e0db-44b9-af2b-272fc90a8dfd",
        "colab": {
          "base_uri": "https://localhost:8080/",
          "height": 835
        }
      },
      "id": "9sl2odeOl6ok",
      "execution_count": null,
      "outputs": [
        {
          "output_type": "stream",
          "name": "stdout",
          "text": [
            "Files already downloaded and verified\n",
            "Training Size : 40000\n",
            "Validation Size : 10000\n",
            "Files already downloaded and verified\n",
            "Testing Size : 10000\n",
            "[1,  2000] loss: 1.061\n",
            "{'epoch': 1, 'Train_Loss': 0.6359418182713086, 'Train_Acc': 78.8475, 'Val_Acc': 76.39, 'Val_Loss': 0.7106073419305159}\n",
            "[2,  2000] loss: 0.607\n",
            "{'epoch': 2, 'Train_Loss': 0.5238158674718604, 'Train_Acc': 81.725, 'Val_Acc': 77.71, 'Val_Loss': 0.6672342979590753}\n",
            "[3,  2000] loss: 0.463\n",
            "{'epoch': 3, 'Train_Loss': 0.32175970903832085, 'Train_Acc': 89.415, 'Val_Acc': 83.15, 'Val_Loss': 0.5014312873068063}\n",
            "[4,  2000] loss: 0.338\n",
            "{'epoch': 4, 'Train_Loss': 0.22959344846974844, 'Train_Acc': 92.245, 'Val_Acc': 84.62, 'Val_Loss': 0.47166903088542295}\n",
            "[5,  2000] loss: 0.249\n",
            "{'epoch': 5, 'Train_Loss': 0.17032020651671811, 'Train_Acc': 94.075, 'Val_Acc': 85.11, 'Val_Loss': 0.48425732034983215}\n",
            "Finished Training\n"
          ]
        },
        {
          "output_type": "display_data",
          "data": {
            "text/plain": [
              "<Figure size 360x288 with 1 Axes>"
            ],
            "image/png": "[encoded data removed]"
          },
          "metadata": {
            "needs_background": "light"
          }
        },
        {
          "output_type": "display_data",
          "data": {
            "text/plain": [
              "<Figure size 360x288 with 1 Axes>"
            ],
            "image/png": "[encoded data removed]"
          },
          "metadata": {
            "needs_background": "light"
          }
        }
      ]
    },
    {
      "cell_type": "markdown",
      "source": [
        "vgg 16 "
      ],
      "metadata": {
        "id": "uJd5jxTgmgW-"
      },
      "id": "uJd5jxTgmgW-"
    },
    {
      "cell_type": "code",
      "source": [
        "from torchvision import models\n",
        "from torchvision.models import VGG16_Weights\n",
        "class vgg_16(Basenet):\n",
        "    def __init__(self,dataset=\"CIFAR10\",batch=15,path='./data',splitsize = .2):\n",
        "        super().__init__()\n",
        "        torch.manual_seed(42)\n",
        "        self.network = models.vgg16(pretrained=True)\n",
        "        \n",
        "        # transform = transforms.Compose([transforms.Resize((224,224)),transforms.ToTensor(),\n",
        "        #                                 transforms.Normalize((0.5, 0.5, 0.5), (0.5, 0.5, 0.5))])\n",
        "        # transform = transforms.Compose([transforms.Resize((224,224)),transforms.ToTensor(), transforms.Normalize(mean=[0.485,0.456,0.406],std=[0.229,0.224,0.225])])\n",
        "        self.criterion = None\n",
        "        self.optimizer = None\n",
        "        self.stats = []\n",
        "        self.epoch = 0\n",
        "        if dataset== \"CIFAR10\":\n",
        "            batch_size = batch\n",
        "            dataset = torchvision.datasets.CIFAR10(root=path, train=True,\n",
        "                                                    download=True, transform=VGG16_Weights.DEFAULT.transforms())\n",
        "            val_size = int(len(dataset)*splitsize)\n",
        "            train_size = len(dataset) - val_size\n",
        "            train_set, valid_set = data.random_split(dataset, [train_size, val_size])\n",
        "            self.train_set = train_set\n",
        "            self.trainloader = torch.utils.data.DataLoader(train_set, batch_size=batch_size,\n",
        "                                                      shuffle=True, num_workers=2)\n",
        "            print(\"Training Size :\",len(train_set))\n",
        "            \n",
        "            self.valloader = torch.utils.data.DataLoader(valid_set, batch_size=batch_size,\n",
        "                                                      shuffle=True, num_workers=2)\n",
        "            print(\"Validation Size :\",len(valid_set))\n",
        "            testset = torchvision.datasets.CIFAR10(root=path, train=False,\n",
        "                                                  download=True, transform=VGG16_Weights.DEFAULT.transforms())\n",
        "            print(\"Testing Size :\",len(testset))\n",
        "            self.testloader = torch.utils.data.DataLoader(testset, batch_size=batch_size,\n",
        "                                                    shuffle=False, num_workers=2)\n",
        "\n",
        "            self.classes = ('plane', 'car', 'bird', 'cat',\n",
        "                      'deer', 'dog', 'frog', 'horse', 'ship', 'truck')\n",
        "    def forward(self,x):\n",
        "      return self.network(x)\n",
        "temp = vgg_16().to(get_default_device())\n",
        "summary(temp, (3, 32, 32))\n",
        "# print(temp)"
      ],
      "metadata": {
        "colab": {
          "base_uri": "https://localhost:8080/",
          "height": 1000,
          "referenced_widgets": [
            "4d97553b6bbd4b76be3153ffc1cf91ed",
            "d9b79441dbba491c9189ba8ffe57147d",
            "6854ebb604234af2a5ed20af64a1fbe3",
            "40378dafcc564c5aaea13466c8450ed6",
            "a8743a5cfcbc4006af35af735f578bf8",
            "438627787b7946ad9349d79e12b1a578",
            "aeea84aee4314155b62b8b08b7169626",
            "77096268f905419da32dbc9f950032b6",
            "22c5cacef9204f08b1856e14246574d6",
            "facf591cd8a74d4794b2b777d9e41f1f",
            "ffc4e8f50afd43219f683257fe17ce1b",
            "6abed5e701df4867b28a26c9a5e946dd",
            "a78c31f15c5e4fc887ecfdf10a9c9c00",
            "5d97ac95b9c64823926d867ffbcd3797",
            "8727b07ee94045f3ac16fd55b741f27a",
            "90c1d663a8d7456197d24865f84e864e",
            "5468dea78f614178a72bc5d85cda7f54",
            "7aca5c562bbc41b58e6a77d570171035",
            "843492589f274f9f9912a41c1b051864",
            "073571a27c634f93a1937f5eb50ea7a6",
            "6d2b72edda8642908ad195ddf41d6fa8",
            "c69170df5bc54b399c44b4e3403bd9af"
          ]
        },
        "id": "zg2_pXWrn1mq",
        "outputId": "9f401216-076f-489f-ce56-80b78d8abdb1"
      },
      "id": "zg2_pXWrn1mq",
      "execution_count": null,
      "outputs": [
        {
          "output_type": "stream",
          "name": "stderr",
          "text": [
            "/usr/local/lib/python3.7/dist-packages/torchvision/models/_utils.py:209: UserWarning: The parameter 'pretrained' is deprecated since 0.13 and will be removed in 0.15, please use 'weights' instead.\n",
            "  f\"The parameter '{pretrained_param}' is deprecated since 0.13 and will be removed in 0.15, \"\n",
            "/usr/local/lib/python3.7/dist-packages/torchvision/models/_utils.py:223: UserWarning: Arguments other than a weight enum or `None` for 'weights' are deprecated since 0.13 and will be removed in 0.15. The current behavior is equivalent to passing `weights=VGG16_Weights.IMAGENET1K_V1`. You can also use `weights=VGG16_Weights.DEFAULT` to get the most up-to-date weights.\n",
            "  warnings.warn(msg)\n",
            "Downloading: \"https://download.pytorch.org/models/vgg16-397923af.pth\" to /root/.cache/torch/hub/checkpoints/vgg16-397923af.pth\n"
          ]
        },
        {
          "output_type": "display_data",
          "data": {
            "text/plain": [
              "  0%|          | 0.00/528M [00:00<?, ?B/s]"
            ],
            "application/vnd.jupyter.widget-view+json": {
              "version_major": 2,
              "version_minor": 0,
              "model_id": "4d97553b6bbd4b76be3153ffc1cf91ed"
            }
          },
          "metadata": {}
        },
        {
          "output_type": "stream",
          "name": "stdout",
          "text": [
            "Downloading https://www.cs.toronto.edu/~kriz/cifar-10-python.tar.gz to ./data/cifar-10-python.tar.gz\n"
          ]
        },
        {
          "output_type": "display_data",
          "data": {
            "text/plain": [
              "  0%|          | 0/170498071 [00:00<?, ?it/s]"
            ],
            "application/vnd.jupyter.widget-view+json": {
              "version_major": 2,
              "version_minor": 0,
              "model_id": "6abed5e701df4867b28a26c9a5e946dd"
            }
          },
          "metadata": {}
        },
        {
          "output_type": "stream",
          "name": "stdout",
          "text": [
            "Extracting ./data/cifar-10-python.tar.gz to ./data\n",
            "Training Size : 40000\n",
            "Validation Size : 10000\n",
            "Files already downloaded and verified\n",
            "Testing Size : 10000\n",
            "----------------------------------------------------------------\n",
            "        Layer (type)               Output Shape         Param #\n",
            "================================================================\n",
            "            Conv2d-1           [-1, 64, 32, 32]           1,792\n",
            "              ReLU-2           [-1, 64, 32, 32]               0\n",
            "            Conv2d-3           [-1, 64, 32, 32]          36,928\n",
            "              ReLU-4           [-1, 64, 32, 32]               0\n",
            "         MaxPool2d-5           [-1, 64, 16, 16]               0\n",
            "            Conv2d-6          [-1, 128, 16, 16]          73,856\n",
            "              ReLU-7          [-1, 128, 16, 16]               0\n",
            "            Conv2d-8          [-1, 128, 16, 16]         147,584\n",
            "              ReLU-9          [-1, 128, 16, 16]               0\n",
            "        MaxPool2d-10            [-1, 128, 8, 8]               0\n",
            "           Conv2d-11            [-1, 256, 8, 8]         295,168\n",
            "             ReLU-12            [-1, 256, 8, 8]               0\n",
            "           Conv2d-13            [-1, 256, 8, 8]         590,080\n",
            "             ReLU-14            [-1, 256, 8, 8]               0\n",
            "           Conv2d-15            [-1, 256, 8, 8]         590,080\n",
            "             ReLU-16            [-1, 256, 8, 8]               0\n",
            "        MaxPool2d-17            [-1, 256, 4, 4]               0\n",
            "           Conv2d-18            [-1, 512, 4, 4]       1,180,160\n",
            "             ReLU-19            [-1, 512, 4, 4]               0\n",
            "           Conv2d-20            [-1, 512, 4, 4]       2,359,808\n",
            "             ReLU-21            [-1, 512, 4, 4]               0\n",
            "           Conv2d-22            [-1, 512, 4, 4]       2,359,808\n",
            "             ReLU-23            [-1, 512, 4, 4]               0\n",
            "        MaxPool2d-24            [-1, 512, 2, 2]               0\n",
            "           Conv2d-25            [-1, 512, 2, 2]       2,359,808\n",
            "             ReLU-26            [-1, 512, 2, 2]               0\n",
            "           Conv2d-27            [-1, 512, 2, 2]       2,359,808\n",
            "             ReLU-28            [-1, 512, 2, 2]               0\n",
            "           Conv2d-29            [-1, 512, 2, 2]       2,359,808\n",
            "             ReLU-30            [-1, 512, 2, 2]               0\n",
            "        MaxPool2d-31            [-1, 512, 1, 1]               0\n",
            "AdaptiveAvgPool2d-32            [-1, 512, 7, 7]               0\n",
            "           Linear-33                 [-1, 4096]     102,764,544\n",
            "             ReLU-34                 [-1, 4096]               0\n",
            "          Dropout-35                 [-1, 4096]               0\n",
            "           Linear-36                 [-1, 4096]      16,781,312\n",
            "             ReLU-37                 [-1, 4096]               0\n",
            "          Dropout-38                 [-1, 4096]               0\n",
            "           Linear-39                 [-1, 1000]       4,097,000\n",
            "              VGG-40                 [-1, 1000]               0\n",
            "================================================================\n",
            "Total params: 138,357,544\n",
            "Trainable params: 138,357,544\n",
            "Non-trainable params: 0\n",
            "----------------------------------------------------------------\n",
            "Input size (MB): 0.01\n",
            "Forward/backward pass size (MB): 4.85\n",
            "Params size (MB): 527.79\n",
            "Estimated Total Size (MB): 532.66\n",
            "----------------------------------------------------------------\n"
          ]
        }
      ]
    },
    {
      "cell_type": "code",
      "source": [
        "model_vgg16 = vgg_16()\n",
        "# num_ftrs = model_resnet.fc.in_features\n",
        "model_vgg16.fc = nn.Linear(512, 10)\n",
        "model_vgg16=model_vgg16.to(get_default_device())\n",
        "model_vgg16.train_model(5,0.001,\"SGD\")\n",
        "model_vgg16.show_graph()"
      ],
      "metadata": {
        "colab": {
          "base_uri": "https://localhost:8080/",
          "height": 835
        },
        "id": "qzMo4Z7I9ivF",
        "outputId": "c053be87-e0a6-4e5c-f62f-1964b2524e6b"
      },
      "id": "qzMo4Z7I9ivF",
      "execution_count": null,
      "outputs": [
        {
          "output_type": "stream",
          "name": "stdout",
          "text": [
            "Files already downloaded and verified\n",
            "Training Size : 40000\n",
            "Validation Size : 10000\n",
            "Files already downloaded and verified\n",
            "Testing Size : 10000\n",
            "[1,  2000] loss: 0.948\n",
            "{'epoch': 1, 'Train_Loss': 0.3376458943538636, 'Train_Acc': 88.45, 'Val_Acc': 85.4, 'Val_Loss': 0.42247319060644467}\n",
            "[2,  2000] loss: 0.365\n",
            "{'epoch': 2, 'Train_Loss': 0.26016939480753737, 'Train_Acc': 91.02, 'Val_Acc': 86.59, 'Val_Loss': 0.3957823630969698}\n",
            "[3,  2000] loss: 0.232\n",
            "{'epoch': 3, 'Train_Loss': 0.11998737542935409, 'Train_Acc': 96.0025, 'Val_Acc': 90.35, 'Val_Loss': 0.2994875552131329}\n",
            "[4,  2000] loss: 0.152\n",
            "{'epoch': 4, 'Train_Loss': 0.1266173965078984, 'Train_Acc': 95.8325, 'Val_Acc': 89.08, 'Val_Loss': 0.3558267710463045}\n",
            "[5,  2000] loss: 0.108\n",
            "{'epoch': 5, 'Train_Loss': 0.07081367148333795, 'Train_Acc': 97.825, 'Val_Acc': 90.2, 'Val_Loss': 0.32045558020106873}\n",
            "Finished Training\n"
          ]
        },
        {
          "output_type": "display_data",
          "data": {
            "text/plain": [
              "<Figure size 360x288 with 1 Axes>"
            ],
            "image/png": "[encoded data removed]"
          },
          "metadata": {
            "needs_background": "light"
          }
        },
        {
          "output_type": "display_data",
          "data": {
            "text/plain": [
              "<Figure size 360x288 with 1 Axes>"
            ],
            "image/png": "[encoded data removed]"
          },
          "metadata": {
            "needs_background": "light"
          }
        }
      ]
    },
    {
      "cell_type": "code",
      "source": [
        "model_vgg16_A = vgg_16()\n",
        "# num_ftrs = model_resnet.fc.in_features\n",
        "model_vgg16_A.fc = nn.Linear(512, 10)\n",
        "model_vgg16_A=model_vgg16_A.to(get_default_device())\n",
        "model_vgg16_A.train_model(5,0.0001,\"Adam\")\n",
        "model_vgg16_A.show_graph()"
      ],
      "metadata": {
        "id": "diS3TQlMl9qS",
        "outputId": "5517df13-978e-43b3-bd83-b9cda6747914",
        "colab": {
          "base_uri": "https://localhost:8080/"
        }
      },
      "id": "diS3TQlMl9qS",
      "execution_count": null,
      "outputs": [
        {
          "output_type": "stream",
          "name": "stdout",
          "text": [
            "Files already downloaded and verified\n",
            "Training Size : 40000\n",
            "Validation Size : 10000\n",
            "Files already downloaded and verified\n",
            "Testing Size : 10000\n",
            "[1,  2000] loss: 0.775\n",
            "{'epoch': 1, 'Train_Loss': 0.39451621488898847, 'Train_Acc': 86.82, 'Val_Acc': 82.43, 'Val_Loss': 0.5100372812614359}\n",
            "[2,  2000] loss: 0.370\n",
            "{'epoch': 2, 'Train_Loss': 0.24053332731452498, 'Train_Acc': 91.9225, 'Val_Acc': 85.71, 'Val_Loss': 0.42910161925510487}\n",
            "[3,  2000] loss: 0.253\n",
            "{'epoch': 3, 'Train_Loss': 0.12352227720749408, 'Train_Acc': 95.9775, 'Val_Acc': 88.44, 'Val_Loss': 0.37406181148288287}\n",
            "[4,  2000] loss: 0.186\n",
            "{'epoch': 4, 'Train_Loss': 0.1422468361786238, 'Train_Acc': 95.4975, 'Val_Acc': 87.15, 'Val_Loss': 0.46337964629975736}\n"
          ]
        }
      ]
    },
    {
      "cell_type": "markdown",
      "source": [
        "Google Net"
      ],
      "metadata": {
        "id": "0nqFHBkS_O4Z"
      },
      "id": "0nqFHBkS_O4Z"
    },
    {
      "cell_type": "code",
      "source": [
        "from torchvision import models\n",
        "from torchvision.models import GoogLeNet_Weights\n",
        "class GoogleNet(Basenet):\n",
        "    def __init__(self,dataset=\"CIFAR10\",batch=15,path='./data',splitsize = .2):\n",
        "        super().__init__()\n",
        "        torch.manual_seed(42)\n",
        "        self.network = models.GoogLeNet(pretrained=True)\n",
        "        \n",
        "        # transform = transforms.Compose([transforms.Resize((224,224)),transforms.ToTensor(),\n",
        "        #                                 transforms.Normalize((0.5, 0.5, 0.5), (0.5, 0.5, 0.5))])\n",
        "        # transform = transforms.Compose([transforms.Resize((224,224)),transforms.ToTensor(), transforms.Normalize(mean=[0.485,0.456,0.406],std=[0.229,0.224,0.225])])\n",
        "        self.criterion = None\n",
        "        self.optimizer = None\n",
        "        self.stats = []\n",
        "        self.epoch = 0\n",
        "        if dataset== \"CIFAR10\":\n",
        "            batch_size = batch\n",
        "            dataset = torchvision.datasets.CIFAR10(root=path, train=True,\n",
        "                                                    download=True, transform=VGG16_Weights.DEFAULT.transforms())\n",
        "            val_size = int(len(dataset)*splitsize)\n",
        "            train_size = len(dataset) - val_size\n",
        "            train_set, valid_set = data.random_split(dataset, [train_size, val_size])\n",
        "            self.train_set = train_set\n",
        "            self.trainloader = torch.utils.data.DataLoader(train_set, batch_size=batch_size,\n",
        "                                                      shuffle=True, num_workers=2)\n",
        "            print(\"Training Size :\",len(train_set))\n",
        "            \n",
        "            self.valloader = torch.utils.data.DataLoader(valid_set, batch_size=batch_size,\n",
        "                                                      shuffle=True, num_workers=2)\n",
        "            print(\"Validation Size :\",len(valid_set))\n",
        "            testset = torchvision.datasets.CIFAR10(root=path, train=False,\n",
        "                                                  download=True, transform=VGG16_Weights.DEFAULT.transforms())\n",
        "            print(\"Testing Size :\",len(testset))\n",
        "            self.testloader = torch.utils.data.DataLoader(testset, batch_size=batch_size,\n",
        "                                                    shuffle=False, num_workers=2)\n",
        "\n",
        "            self.classes = ('plane', 'car', 'bird', 'cat',\n",
        "                      'deer', 'dog', 'frog', 'horse', 'ship', 'truck')\n",
        "    def forward(self,x):\n",
        "      return self.network(x)\n",
        "temp = GoogleNet().to(get_default_device())\n",
        "summary(temp, (3, 32, 32))\n",
        "# print(temp)"
      ],
      "metadata": {
        "id": "XtDeWO6-_Eyz"
      },
      "id": "XtDeWO6-_Eyz",
      "execution_count": null,
      "outputs": []
    },
    {
      "cell_type": "markdown",
      "source": [
        "##Showing Images"
      ],
      "metadata": {
        "id": "vz92PqBT3qhh"
      },
      "id": "vz92PqBT3qhh"
    },
    {
      "cell_type": "code",
      "source": [
        "#Just adding Linear dropout\n",
        "model3 = Imagenet_model3()\n",
        "model3=model3.to(get_default_device())\n",
        "model3.train_model(5,0.01,\"SGD\")\n",
        "model3.show_graph()"
      ],
      "metadata": {
        "colab": {
          "base_uri": "https://localhost:8080/",
          "height": 745
        },
        "id": "go7iqMmopMEC",
        "outputId": "d39e6d46-0a3c-4df9-fbb1-d323101cfbd4"
      },
      "id": "go7iqMmopMEC",
      "execution_count": null,
      "outputs": [
        {
          "output_type": "stream",
          "name": "stdout",
          "text": [
            "Files already downloaded and verified\n",
            "Training Size : 40000\n",
            "Validation Size : 10000\n",
            "Files already downloaded and verified\n",
            "Testing Size : 10000\n",
            "{'epoch': 1, 'Train_Loss': 1.7401209400177002, 'Train_Acc': 35.19, 'Val_Acc': 35.04, 'Val_Loss': 1.7455207417948178}\n",
            "{'epoch': 2, 'Train_Loss': 1.6341974850654601, 'Train_Acc': 40.58, 'Val_Acc': 39.54, 'Val_Loss': 1.6506910544995683}\n",
            "{'epoch': 3, 'Train_Loss': 1.5659031383514403, 'Train_Acc': 43.065, 'Val_Acc': 42.1, 'Val_Loss': 1.5834134078254334}\n",
            "{'epoch': 4, 'Train_Loss': 1.5411020215988158, 'Train_Acc': 44.495, 'Val_Acc': 43.08, 'Val_Loss': 1.5720441794623963}\n",
            "{'epoch': 5, 'Train_Loss': 1.4810718903064728, 'Train_Acc': 46.055, 'Val_Acc': 44.43, 'Val_Loss': 1.5254827467397378}\n",
            "Finished Training\n"
          ]
        },
        {
          "output_type": "display_data",
          "data": {
            "text/plain": [
              "<Figure size 360x288 with 1 Axes>"
            ],
            "image/png": "[encoded data removed]"
          },
          "metadata": {
            "needs_background": "light"
          }
        },
        {
          "output_type": "display_data",
          "data": {
            "text/plain": [
              "<Figure size 360x288 with 1 Axes>"
            ],
            "image/png": "[encoded data removed]"
          },
          "metadata": {
            "needs_background": "light"
          }
        }
      ]
    },
    {
      "cell_type": "markdown",
      "source": [
        "Show  Images in daatset"
      ],
      "metadata": {
        "id": "oUEqVyGqdOer"
      },
      "id": "oUEqVyGqdOer"
    },
    {
      "cell_type": "code",
      "execution_count": null,
      "id": "dfe16f0a",
      "metadata": {
        "colab": {
          "base_uri": "https://localhost:8080/",
          "height": 1000
        },
        "id": "dfe16f0a",
        "outputId": "11bc17a9-cfdb-4655-d0a2-26bd0ea093ee"
      },
      "outputs": [
        {
          "output_type": "stream",
          "name": "stdout",
          "text": [
            "Files already downloaded and verified\n",
            "Training Size : 40000\n",
            "Validation Size : 10000\n",
            "Files already downloaded and verified\n",
            "Testing Size : 10000\n",
            "[1,  2000] loss: 0.461\n",
            "[1,  4000] loss: 0.430\n",
            "[1,  6000] loss: 0.409\n",
            "[1,  8000] loss: 0.429\n",
            "[1, 10000] loss: 0.408\n",
            "epoch :1|train loss :0.3348534572911851|train Acc :88.56|val Acc: 63.84|val Loss :1.321176587426223\n",
            "[2,  2000] loss: 0.335\n",
            "[2,  4000] loss: 0.328\n",
            "[2,  6000] loss: 0.354\n",
            "[2,  8000] loss: 0.350\n",
            "[2, 10000] loss: 0.364\n",
            "epoch :2|train loss :0.28240686659000325|train Acc :90.715|val Acc: 63.79|val Loss :1.395709837311288\n",
            "[3,  2000] loss: 0.288\n",
            "[3,  4000] loss: 0.292\n",
            "[3,  6000] loss: 0.300\n",
            "[3,  8000] loss: 0.316\n",
            "[3, 10000] loss: 0.312\n",
            "epoch :3|train loss :0.24255979586216922|train Acc :92.265|val Acc: 63.38|val Loss :1.5160076870894468\n",
            "[4,  2000] loss: 0.251\n",
            "[4,  4000] loss: 0.263\n",
            "[4,  6000] loss: 0.264\n",
            "[4,  8000] loss: 0.267\n",
            "[4, 10000] loss: 0.283\n",
            "epoch :4|train loss :0.21555674771110817|train Acc :93.4025|val Acc: 62.89|val Loss :1.605017930924832\n",
            "[5,  2000] loss: 0.220\n",
            "[5,  4000] loss: 0.227\n",
            "[5,  6000] loss: 0.238\n",
            "[5,  8000] loss: 0.242\n",
            "[5, 10000] loss: 0.254\n",
            "epoch :5|train loss :0.18963734036332072|train Acc :94.53|val Acc: 62.76|val Loss :1.6888753130963015\n",
            "[6,  2000] loss: 0.188\n",
            "[6,  4000] loss: 0.199\n",
            "[6,  6000] loss: 0.206\n",
            "[6,  8000] loss: 0.216\n",
            "[6, 10000] loss: 0.235\n",
            "epoch :6|train loss :0.15997363696832811|train Acc :95.525|val Acc: 62.93|val Loss :1.8163016141111947\n",
            "[7,  2000] loss: 0.163\n",
            "[7,  4000] loss: 0.173\n",
            "[7,  6000] loss: 0.190\n",
            "[7,  8000] loss: 0.189\n",
            "[7, 10000] loss: 0.207\n",
            "epoch :7|train loss :0.14432807818194618|train Acc :96.11|val Acc: 62.83|val Loss :1.91809883957258\n",
            "[8,  2000] loss: 0.137\n",
            "[8,  4000] loss: 0.161\n",
            "[8,  6000] loss: 0.170\n",
            "[8,  8000] loss: 0.160\n",
            "[8, 10000] loss: 0.183\n",
            "epoch :8|train loss :0.12567282131375565|train Acc :96.7175|val Acc: 62.88|val Loss :2.0517344513478957\n",
            "Finished Training\n"
          ]
        },
        {
          "output_type": "display_data",
          "data": {
            "text/plain": [
              "<Figure size 360x288 with 1 Axes>"
            ],
            "image/png": "[encoded data removed]"
          },
          "metadata": {
            "needs_background": "light"
          }
        },
        {
          "output_type": "display_data",
          "data": {
            "text/plain": [
              "<Figure size 360x288 with 1 Axes>"
            ],
            "image/png": "[encoded data removed]"
          },
          "metadata": {
            "needs_background": "light"
          }
        }
      ],
      "source": [
        "model3 = Imagenet()\n",
        "model3=model1.to(get_default_device())\n",
        "#def train(self,epochs,learning_rt=0.001,mm=0.9,optimizer_fn = \"SGD\"):\n",
        "model3.train(8,0.0001,\"Adam\")#0.0001\n",
        "model2.show_graph()"
      ]
    },
    {
      "cell_type": "code",
      "execution_count": null,
      "id": "5a0b8c56",
      "metadata": {
        "colab": {
          "base_uri": "https://localhost:8080/",
          "height": 1000
        },
        "id": "5a0b8c56",
        "outputId": "79610c89-b4c0-433f-e0a4-004f53c8691b"
      },
      "outputs": [
        {
          "output_type": "stream",
          "name": "stdout",
          "text": [
            "Files already downloaded and verified\n"
          ]
        },
        {
          "output_type": "stream",
          "name": "stderr",
          "text": [
            "/usr/local/lib/python3.7/dist-packages/torch/utils/data/dataloader.py:566: UserWarning: This DataLoader will create 8 worker processes in total. Our suggested max number of worker in current system is 2, which is smaller than what this DataLoader is going to create. Please be aware that excessive worker creation might get DataLoader running slow or even freeze, lower the worker number to avoid potential slowness/freeze if necessary.\n",
            "  cpuset_checked))\n"
          ]
        },
        {
          "output_type": "stream",
          "name": "stdout",
          "text": [
            "Training Size : 40000\n",
            "Validation Size : 10000\n",
            "Files already downloaded and verified\n",
            "Testing Size : 10000\n",
            "[1,  2000] loss: 0.132\n",
            "[1,  4000] loss: 0.138\n",
            "[1,  6000] loss: 0.138\n",
            "[1,  8000] loss: 0.159\n",
            "[1, 10000] loss: 0.154\n",
            "epoch :1|train loss :0.10809835489150586|train Acc :97.395|val Acc: 62.46|val Loss :2.152237065738473\n",
            "[2,  2000] loss: 0.108\n",
            "[2,  4000] loss: 0.116\n",
            "[2,  6000] loss: 0.122\n",
            "[2,  8000] loss: 0.137\n",
            "[2, 10000] loss: 0.140\n",
            "epoch :2|train loss :0.09286956598169807|train Acc :97.8625|val Acc: 62.34|val Loss :2.282766452961451\n",
            "[3,  2000] loss: 0.096\n",
            "[3,  4000] loss: 0.102\n",
            "[3,  6000] loss: 0.105\n",
            "[3,  8000] loss: 0.120\n",
            "[3, 10000] loss: 0.113\n",
            "epoch :3|train loss :0.07869688009604159|train Acc :98.21|val Acc: 62.14|val Loss :2.4736493946262934\n",
            "[4,  2000] loss: 0.077\n",
            "[4,  4000] loss: 0.093\n",
            "[4,  6000] loss: 0.096\n",
            "[4,  8000] loss: 0.099\n",
            "[4, 10000] loss: 0.105\n",
            "epoch :4|train loss :0.06695226490605904|train Acc :98.5825|val Acc: 62.25|val Loss :2.6032512128781127\n",
            "[5,  2000] loss: 0.067\n",
            "[5,  4000] loss: 0.073\n",
            "[5,  6000] loss: 0.083\n",
            "[5,  8000] loss: 0.085\n",
            "[5, 10000] loss: 0.098\n",
            "epoch :5|train loss :0.06558633623775265|train Acc :98.5475|val Acc: 61.94|val Loss :2.7142374662077824\n",
            "[6,  2000] loss: 0.056\n",
            "[6,  4000] loss: 0.063\n",
            "[6,  6000] loss: 0.073\n",
            "[6,  8000] loss: 0.074\n",
            "[6, 10000] loss: 0.083\n",
            "epoch :6|train loss :0.048987751143625656|train Acc :99.0|val Acc: 62.33|val Loss :2.9069530008085103\n",
            "[7,  2000] loss: 0.046\n",
            "[7,  4000] loss: 0.054\n",
            "[7,  6000] loss: 0.065\n",
            "[7,  8000] loss: 0.065\n",
            "[7, 10000] loss: 0.075\n",
            "epoch :7|train loss :0.04531230770268448|train Acc :99.21|val Acc: 61.9|val Loss :3.0314951646511514\n",
            "[8,  2000] loss: 0.039\n",
            "[8,  4000] loss: 0.049\n",
            "[8,  6000] loss: 0.055\n",
            "[8,  8000] loss: 0.057\n",
            "[8, 10000] loss: 0.061\n",
            "epoch :8|train loss :0.034558902005447145|train Acc :99.47|val Acc: 61.92|val Loss :3.1819763694338237\n",
            "[9,  2000] loss: 0.034\n",
            "[9,  4000] loss: 0.042\n",
            "[9,  6000] loss: 0.046\n",
            "[9,  8000] loss: 0.054\n",
            "[9, 10000] loss: 0.056\n",
            "epoch :9|train loss :0.032241129396499334|train Acc :99.4675|val Acc: 61.83|val Loss :3.334659957175779\n",
            "[10,  2000] loss: 0.029\n",
            "[10,  4000] loss: 0.037\n",
            "[10,  6000] loss: 0.044\n",
            "[10,  8000] loss: 0.045\n",
            "[10, 10000] loss: 0.050\n",
            "epoch :10|train loss :0.025509228067387042|train Acc :99.6575|val Acc: 61.58|val Loss :3.4553228881876152\n",
            "[11,  2000] loss: 0.026\n",
            "[11,  4000] loss: 0.030\n",
            "[11,  6000] loss: 0.039\n",
            "[11,  8000] loss: 0.038\n",
            "[11, 10000] loss: 0.042\n",
            "epoch :11|train loss :0.024727710658970666|train Acc :99.5925|val Acc: 61.9|val Loss :3.5851812230860363\n",
            "[12,  2000] loss: 0.027\n",
            "[12,  4000] loss: 0.029\n",
            "[12,  6000] loss: 0.031\n",
            "[12,  8000] loss: 0.036\n",
            "[12, 10000] loss: 0.039\n",
            "epoch :12|train loss :0.029069925371436163|train Acc :99.4325|val Acc: 61.66|val Loss :3.696443076604917\n",
            "[13,  2000] loss: 0.021\n",
            "[13,  4000] loss: 0.026\n",
            "[13,  6000] loss: 0.031\n",
            "[13,  8000] loss: 0.033\n",
            "[13, 10000] loss: 0.034\n",
            "epoch :13|train loss :0.01699371812134784|train Acc :99.7825|val Acc: 61.6|val Loss :3.9205504862279317\n",
            "[14,  2000] loss: 0.020\n",
            "[14,  4000] loss: 0.024\n",
            "[14,  6000] loss: 0.026\n",
            "[14,  8000] loss: 0.033\n",
            "[14, 10000] loss: 0.030\n",
            "epoch :14|train loss :0.017915798372905627|train Acc :99.7075|val Acc: 61.38|val Loss :4.009522003992342\n",
            "[15,  2000] loss: 0.015\n",
            "[15,  4000] loss: 0.023\n",
            "[15,  6000] loss: 0.024\n",
            "[15,  8000] loss: 0.026\n",
            "[15, 10000] loss: 0.031\n",
            "epoch :15|train loss :0.016389658178966867|train Acc :99.7525|val Acc: 61.23|val Loss :4.070639732078631\n",
            "[16,  2000] loss: 0.012\n",
            "[16,  4000] loss: 0.021\n",
            "[16,  6000] loss: 0.020\n",
            "[16,  8000] loss: 0.028\n",
            "[16, 10000] loss: 0.028\n",
            "epoch :16|train loss :0.020560607037086575|train Acc :99.615|val Acc: 61.26|val Loss :4.226835374970556\n",
            "[17,  2000] loss: 0.014\n",
            "[17,  4000] loss: 0.019\n",
            "[17,  6000] loss: 0.021\n",
            "[17,  8000] loss: 0.023\n",
            "[17, 10000] loss: 0.022\n",
            "epoch :17|train loss :0.015169801522479591|train Acc :99.7175|val Acc: 61.63|val Loss :4.344489920756828\n",
            "[18,  2000] loss: 0.012\n",
            "[18,  4000] loss: 0.019\n",
            "[18,  6000] loss: 0.018\n",
            "[18,  8000] loss: 0.027\n",
            "[18, 10000] loss: 0.021\n",
            "epoch :18|train loss :0.011551229871353154|train Acc :99.8425|val Acc: 61.57|val Loss :4.375046421666515\n",
            "Finished Training\n"
          ]
        },
        {
          "output_type": "display_data",
          "data": {
            "text/plain": [
              "<Figure size 360x288 with 1 Axes>"
            ],
            "image/png": "[encoded data removed]"
          },
          "metadata": {
            "needs_background": "light"
          }
        },
        {
          "output_type": "display_data",
          "data": {
            "text/plain": [
              "<Figure size 360x288 with 1 Axes>"
            ],
            "image/png": "[encoded data removed]"
          },
          "metadata": {
            "needs_background": "light"
          }
        }
      ],
      "source": [
        "model3 = Imagenet()\n",
        "model3=model1.to(get_default_device())\n",
        "#def train(self,epochs,learning_rt=0.001,mm=0.9,optimizer_fn = \"SGD\"):\n",
        "model3.train(18,0.0001,\"Adam\")#0.0001\n",
        "model2.show_graph()"
      ]
    },
    {
      "cell_type": "code",
      "execution_count": null,
      "id": "3b74f661",
      "metadata": {
        "id": "3b74f661"
      },
      "outputs": [],
      "source": [
        "class PujanNet(Basenet):\n",
        "    def __init__(self, data_set_name, batch_size, download_path, train_data_size, validation_data_size, criterion):\n",
        "        super().__init__()\n",
        "        torch.manual_seed(5)\n",
        "        self.stats = []\n",
        "        self.epoch_number = 0\n",
        "        self.shapes = False\n",
        "    \n",
        "        transform = transforms.Compose(\n",
        "            [\n",
        "                #transforms.Grayscale(num_output_channels=3), # with grayscale, overfitting slightly decreased, this should be the result of data augmentation, this is not converting all images to grayscale\n",
        "                \n",
        "                transforms.ToTensor(),\n",
        "                transforms.Normalize((0.5, 0.5, 0.5), (0.5, 0.5, 0.5))\n",
        "            ])\n",
        "\n",
        "        if data_set_name == \"cifar_10\":\n",
        "            dataset = torchvision.datasets.CIFAR10(root=download_path, train=True, download=True, transform=transform)\n",
        "            print('Length of Dataset ', len(dataset))\n",
        "\n",
        "            train_dataset, val_dataset = torch.utils.data.random_split(dataset, [train_data_size, validation_data_size])\n",
        "            print('Length of Train set ', len(train_dataset))\n",
        "            print('Length of Val set ', len(val_dataset))\n",
        "            self.trainloader = torch.utils.data.DataLoader(train_dataset, batch_size=batch_size, shuffle=True, num_workers=2)\n",
        "            self.valloader = torch.utils.data.DataLoader(val_dataset, batch_size=batch_size, shuffle=True, num_workers=2)\n",
        "\n",
        "            testset = torchvision.datasets.CIFAR10(root=download_path, train=False, download=True, transform=transform)\n",
        "            print('Length of Testset ', len(testset))\n",
        "            self.testloader = torch.utils.data.DataLoader(testset, batch_size=batch_size, shuffle=False, num_workers=2)\n",
        "\n",
        "            self.classes = ('plane', 'car', 'bird', 'cat', 'deer', 'dog', 'frog', 'horse', 'ship', 'truck')\n",
        "\n",
        "        self.criterion = criterion\n",
        "        # input channel should be 3 for color image and 1 for grayscale\n",
        "        self.conv1 = nn.Conv2d(3, 6, 3)\n",
        "        # https://discuss.pytorch.org/t/example-on-how-to-use-batch-norm/216\n",
        "        self.conv1_bn = nn.BatchNorm2d(6)\n",
        "        self.pool = nn.MaxPool2d(2, 2)\n",
        "        self.conv2 = nn.Conv2d(6, 16, 5)\n",
        "        self.conv2_bn = nn.BatchNorm2d(16)\n",
        "        # mat1 and mat2 shapes cannot be multiplied (4x576 and 400x120)\n",
        "        # filter = 1, input shape for linear should be 6 * 6,\n",
        "        # filter = 3, 5, input shape for linear should be 5 * 5\n",
        "        # self.fc1 = nn.Linear(16 * 6 * 6, 120)\n",
        "        self.fc1 = nn.Linear(16 * 5 * 5, 120)\n",
        "        self.fc1_bn = nn.BatchNorm1d(120)\n",
        "        self.fc2 = nn.Linear(120, 84)\n",
        "        self.fc3 = nn.Linear(84, 10)\n",
        "\n",
        "        self.dropout_2d = nn.Dropout2d()\n",
        "        self.dropout_1d = nn.Dropout1d()\n",
        "\n",
        "    def forward(self, x):\n",
        "        if self.shapes:\n",
        "            print(\"Initial x shape \", x.shape)\n",
        "        # x = self.pool(F.relu(self.conv1(x)))\n",
        "        # print(\"After conv1 and maxpool, x shape \", x.shape)\n",
        "\n",
        "        # First layer\n",
        "        x = self.conv1(x)\n",
        "        x = self.conv1_bn(x)\n",
        "        x = F.relu(x)\n",
        "        if self.shapes:\n",
        "            print('After conv1, shape of x is ', x.shape)\n",
        "        x = self.pool(x)\n",
        "        if self.shapes:\n",
        "            print('After max pool 1, shape of x is ', x.shape)\n",
        "        \n",
        "        # dropout\n",
        "        # x = self.dropout_2d(x)\n",
        "        if self.shapes:\n",
        "            print('Shape after dropout after conv layer 1 ', x.shape) \n",
        "        # Second layer\n",
        "        # x = self.pool(F.relu(self.conv2(x)))\n",
        "        # print(\"After conv2 and maxpool, x shape \", x.shape)\n",
        "\n",
        "        x = self.conv2(x)\n",
        "        x = self.conv2_bn(x)\n",
        "        x = F.relu(x)\n",
        "        x = self.dropout_2d(x)\n",
        "        if self.shapes:\n",
        "            print('After conv2, shape of X is ', x.shape)\n",
        "        x = self.pool(x)\n",
        "        if self.shapes:\n",
        "            print('After max pool 2, shape of x is ', x.shape)\n",
        "\n",
        "        x = torch.flatten(x, 1) # flatten all dimensions except batch\n",
        "        if self.shapes:\n",
        "            print('After flatten, x shape ', x.shape)\n",
        "\n",
        "        x = self.fc1(x)\n",
        "        x = self.fc1_bn(x)\n",
        "        x = F.relu(x)\n",
        "        if self.shapes:\n",
        "            print('After fc1, x shape ', x.shape)\n",
        "\n",
        "        x = self.fc2(x)\n",
        "        x = F.relu(x)\n",
        "        if self.shapes:\n",
        "            print('After fc2, x shape ', x.shape)\n",
        "        x = self.fc3(x)\n",
        "        if self.shapes:\n",
        "            print('After fc3, x shape ', x.shape)\n",
        "        return x\n"
      ]
    },
    {
      "cell_type": "code",
      "source": [
        "criterion = nn.CrossEntropyLoss()\n",
        "model_P = PujanNet(data_set_name = \"cifar_10\", batch_size = 64, download_path = \"./data\", \n",
        "                     train_data_size = 40000, validation_data_size = 10000, criterion = criterion)\n",
        "model_P=model_P.to(get_default_device())\n",
        "#def train(self,epochs,learning_rt=0.001,mm=0.9,optimizer_fn = \"SGD\"):\n",
        "# model_P.train(5,0.001,\"Adam\")#0.0001\n",
        "# model_P.show_graph()#'Train_Acc': 45.4075, 'Val_Acc': 45.31\n",
        "model_P.train_model(5,0.001,\"SGD\")#0.0001\n",
        "model_P.show_graph() # 'Train_Acc': 43.7425, 'Val_Acc': 43.8\n",
        "# model_P.train_model(25,0.001,\"Adam\")#0.0001\n",
        "# model_P.show_graph()#"
      ],
      "metadata": {
        "colab": {
          "base_uri": "https://localhost:8080/",
          "height": 763
        },
        "id": "1Rm4qgSFghad",
        "outputId": "e307d16b-ad9e-4779-fb43-3157b2326f3d"
      },
      "id": "1Rm4qgSFghad",
      "execution_count": null,
      "outputs": [
        {
          "output_type": "stream",
          "name": "stdout",
          "text": [
            "Files already downloaded and verified\n",
            "Length of Dataset  50000\n",
            "Length of Train set  40000\n",
            "Length of Val set  10000\n",
            "Files already downloaded and verified\n",
            "Length of Testset  10000\n",
            "{'epoch': 0, 'Train_Loss': 2.006696618843079, 'Train_Acc': 27.78, 'Val_Acc': 33.43, 'Val_Loss': 1.9679253473403349}\n",
            "{'epoch': 1, 'Train_Loss': 1.9761597478866577, 'Train_Acc': 28.66, 'Val_Acc': 37.31, 'Val_Loss': 1.8838635986777628}\n",
            "{'epoch': 2, 'Train_Loss': 1.992767588043213, 'Train_Acc': 28.81, 'Val_Acc': 40.57, 'Val_Loss': 1.8121617075743948}\n",
            "{'epoch': 3, 'Train_Loss': 2.0300695779800413, 'Train_Acc': 28.2025, 'Val_Acc': 42.77, 'Val_Loss': 1.7565796800479767}\n",
            "{'epoch': 4, 'Train_Loss': 2.0990071449279784, 'Train_Acc': 27.945, 'Val_Acc': 43.62, 'Val_Loss': 1.7327579502846784}\n",
            "Finished Training\n"
          ]
        },
        {
          "output_type": "display_data",
          "data": {
            "text/plain": [
              "<Figure size 360x288 with 1 Axes>"
            ],
            "image/png": "[encoded data removed]"
          },
          "metadata": {
            "needs_background": "light"
          }
        },
        {
          "output_type": "display_data",
          "data": {
            "text/plain": [
              "<Figure size 360x288 with 1 Axes>"
            ],
            "image/png": "[encoded data removed]"
          },
          "metadata": {
            "needs_background": "light"
          }
        }
      ]
    },
    {
      "cell_type": "code",
      "source": [
        "model_P.train_model(25,0.001,\"SGD\")#0.0001\n",
        "model_P.show_graph()"
      ],
      "metadata": {
        "id": "eN03vYX5hAPm",
        "colab": {
          "base_uri": "https://localhost:8080/",
          "height": 1000
        },
        "outputId": "f67cc1a9-725d-46de-9077-7c172d57fe31"
      },
      "id": "eN03vYX5hAPm",
      "execution_count": null,
      "outputs": [
        {
          "output_type": "stream",
          "name": "stdout",
          "text": [
            "{'epoch': 0, 'Train_Loss': 1.2293091514110566, 'Train_Acc': 56.11, 'Val_Acc': 52.59, 'Val_Loss': 1.338632341010121}\n",
            "{'epoch': 1, 'Train_Loss': 1.198808199930191, 'Train_Acc': 57.4075, 'Val_Acc': 55.06, 'Val_Loss': 1.2883969299709455}\n",
            "{'epoch': 2, 'Train_Loss': 1.194377490234375, 'Train_Acc': 57.4225, 'Val_Acc': 54.86, 'Val_Loss': 1.281893648278599}\n",
            "{'epoch': 3, 'Train_Loss': 1.1873163534641267, 'Train_Acc': 57.975, 'Val_Acc': 54.15, 'Val_Loss': 1.2949131308272244}\n",
            "{'epoch': 4, 'Train_Loss': 1.1953103123188018, 'Train_Acc': 57.19, 'Val_Acc': 54.26, 'Val_Loss': 1.2933300444112419}\n",
            "{'epoch': 5, 'Train_Loss': 1.188926575422287, 'Train_Acc': 57.8975, 'Val_Acc': 54.48, 'Val_Loss': 1.2962515498883427}\n",
            "{'epoch': 6, 'Train_Loss': 1.1864707315921783, 'Train_Acc': 57.735, 'Val_Acc': 54.22, 'Val_Loss': 1.2825414923052438}\n",
            "{'epoch': 7, 'Train_Loss': 1.1848107779502868, 'Train_Acc': 57.885, 'Val_Acc': 53.89, 'Val_Loss': 1.3154965104005587}\n",
            "{'epoch': 8, 'Train_Loss': 1.1694789078712464, 'Train_Acc': 58.565, 'Val_Acc': 55.26, 'Val_Loss': 1.2723351004786385}\n",
            "{'epoch': 9, 'Train_Loss': 1.1714967109680177, 'Train_Acc': 58.44, 'Val_Acc': 55.05, 'Val_Loss': 1.2779354990099947}\n",
            "{'epoch': 10, 'Train_Loss': 1.1727884041786194, 'Train_Acc': 58.4825, 'Val_Acc': 54.39, 'Val_Loss': 1.2955139167011736}\n",
            "{'epoch': 11, 'Train_Loss': 1.1747126107215882, 'Train_Acc': 58.5325, 'Val_Acc': 54.65, 'Val_Loss': 1.2856902040231724}\n",
            "{'epoch': 12, 'Train_Loss': 1.1831395444393158, 'Train_Acc': 57.915, 'Val_Acc': 54.21, 'Val_Loss': 1.2893592877129016}\n",
            "{'epoch': 13, 'Train_Loss': 1.1864293924331666, 'Train_Acc': 57.7925, 'Val_Acc': 54.7, 'Val_Loss': 1.30397260855562}\n",
            "{'epoch': 14, 'Train_Loss': 1.1666334674358367, 'Train_Acc': 58.2825, 'Val_Acc': 55.11, 'Val_Loss': 1.2730989202904626}\n",
            "{'epoch': 15, 'Train_Loss': 1.1583519244670868, 'Train_Acc': 58.96, 'Val_Acc': 54.77, 'Val_Loss': 1.2709975895790246}\n",
            "{'epoch': 16, 'Train_Loss': 1.161066481781006, 'Train_Acc': 58.865, 'Val_Acc': 55.32, 'Val_Loss': 1.2737211318442616}\n",
            "{'epoch': 17, 'Train_Loss': 1.1690170030117035, 'Train_Acc': 58.4925, 'Val_Acc': 54.49, 'Val_Loss': 1.2988428201157445}\n",
            "{'epoch': 18, 'Train_Loss': 1.1697334222793578, 'Train_Acc': 58.4375, 'Val_Acc': 54.22, 'Val_Loss': 1.2840397121807257}\n",
            "{'epoch': 19, 'Train_Loss': 1.1609500655651093, 'Train_Acc': 58.7175, 'Val_Acc': 55.74, 'Val_Loss': 1.2618435746945513}\n",
            "{'epoch': 20, 'Train_Loss': 1.1628938027858735, 'Train_Acc': 58.655, 'Val_Acc': 55.27, 'Val_Loss': 1.2644358056421858}\n",
            "{'epoch': 21, 'Train_Loss': 1.1615137743473054, 'Train_Acc': 58.61, 'Val_Acc': 55.09, 'Val_Loss': 1.2707581038292224}\n",
            "{'epoch': 22, 'Train_Loss': 1.1776839493751525, 'Train_Acc': 58.08, 'Val_Acc': 55.21, 'Val_Loss': 1.275489913579374}\n",
            "{'epoch': 23, 'Train_Loss': 1.1674331411361694, 'Train_Acc': 58.495, 'Val_Acc': 54.5, 'Val_Loss': 1.2824910077424094}\n",
            "{'epoch': 24, 'Train_Loss': 1.1537092494010925, 'Train_Acc': 59.2, 'Val_Acc': 54.92, 'Val_Loss': 1.2794192395271204}\n",
            "Finished Training\n"
          ]
        },
        {
          "output_type": "display_data",
          "data": {
            "text/plain": [
              "<Figure size 360x288 with 1 Axes>"
            ],
            "image/png": "[encoded data removed]"
          },
          "metadata": {
            "needs_background": "light"
          }
        },
        {
          "output_type": "display_data",
          "data": {
            "text/plain": [
              "<Figure size 360x288 with 1 Axes>"
            ],
            "image/png": "[encoded data removed]"
          },
          "metadata": {
            "needs_background": "light"
          }
        }
      ]
    },
    {
      "cell_type": "code",
      "source": [],
      "metadata": {
        "id": "3e3evBMIdVKV"
      },
      "id": "3e3evBMIdVKV",
      "execution_count": null,
      "outputs": []
    },
    {
      "cell_type": "code",
      "source": [
        "#TEMP\n",
        "class Imagenet_model4(Basenet):\n",
        "    def __init__(self,dataset=\"CIFAR10\",batch=15,path='./data',splitsize = .2):\n",
        "        super().__init__()\n",
        "        torch.manual_seed(42)\n",
        "        self.shapes = False\n",
        "        #CNN Layer 1\n",
        "        self.conv1 = nn.Conv2d(3, 16, 3,padding = 1)\n",
        "        #CNN Layer 2\n",
        "        self.conv2 = nn.Conv2d(16, 32, 3,padding = 1)\n",
        "        #CNN LAyer 3\n",
        "        self.conv3 = nn.Conv2d(32, 64, 3,padding = 1)\n",
        "        self.pool = nn.MaxPool2d(2, 2)\n",
        "\n",
        "        #FCNN Layer 1\n",
        "        self.fc1 = nn.Linear(64 * 4 * 4, 512)\n",
        "\n",
        "        #FCNN Layer 2\n",
        "        self.fc2 = nn.Linear(512, 64)\n",
        "\n",
        "        #FCNN LAyer 3\n",
        "        self.fc3 = nn.Linear(64, 10)\n",
        "        self.softmax = nn.Softmax(dim=1)\n",
        "        transform = transforms.Compose([transforms.ToTensor(),\n",
        "                                        transforms.Normalize((0.5, 0.5, 0.5), (0.5, 0.5, 0.5))])\n",
        "        \n",
        "\n",
        "        # #Regularization Parameters\n",
        "        # self.dropout2d = nn.Dropout2d()\n",
        "        self.dropout1d = nn.Dropout1d(.4)\n",
        "\n",
        "        self.criterion = None\n",
        "        self.optimizer = None\n",
        "        self.stats = []\n",
        "        self.epoch = 0\n",
        "        if dataset== \"CIFAR10\":\n",
        "            batch_size = batch\n",
        "            dataset = torchvision.datasets.CIFAR10(root=path, train=True,\n",
        "                                                    download=True, transform=transform)\n",
        "            val_size = int(len(dataset)*splitsize)\n",
        "            train_size = len(dataset) - val_size\n",
        "            train_set, valid_set = data.random_split(dataset, [train_size, val_size])\n",
        "            self.train_set = train_set\n",
        "            self.trainloader = torch.utils.data.DataLoader(train_set, batch_size=batch_size,\n",
        "                                                      shuffle=True, num_workers=2)\n",
        "            print(\"Training Size :\",len(train_set))\n",
        "            \n",
        "            self.valloader = torch.utils.data.DataLoader(valid_set, batch_size=batch_size,\n",
        "                                                      shuffle=True, num_workers=2)\n",
        "            print(\"Validation Size :\",len(valid_set))\n",
        "            testset = torchvision.datasets.CIFAR10(root=path, train=False,\n",
        "                                                  download=True, transform=transform)\n",
        "            print(\"Testing Size :\",len(testset))\n",
        "            self.testloader = torch.utils.data.DataLoader(testset, batch_size=batch_size,\n",
        "                                                    shuffle=False, num_workers=2)\n",
        "\n",
        "            self.classes = ('plane', 'car', 'bird', 'cat',\n",
        "                      'deer', 'dog', 'frog', 'horse', 'ship', 'truck')\n",
        "\n",
        "    def forward(self, x):\n",
        "\n",
        "        #CNN Layer 1\n",
        "        x = self.conv1(x)\n",
        "        x = F.relu(x)\n",
        "        x = self.pool(x)\n",
        "\n",
        "        # x = self.pool(F.relu(self.conv1(x)))\n",
        "        # x = self.dropout2d(x)\n",
        "\n",
        "        #CNN Layer 2\n",
        "        x = self.conv2(x)\n",
        "        x = F.relu(x)\n",
        "        x = self.pool(x)\n",
        "\n",
        "        #CNN Layer 3\n",
        "        x = self.conv3(x)\n",
        "        x = F.relu(x)\n",
        "        x = self.pool(x)\n",
        "\n",
        "\n",
        "        # x = self.dropout2d(x)\n",
        "\n",
        "        # flatten all dimensions except batch\n",
        "        # x = torch.flatten(x, 1)\n",
        "        x = x.view(-1,64*4*4) \n",
        "        #FCNN Layer 1\n",
        "        x = self.fc1(x)\n",
        "        x = F.relu(x)\n",
        "        x = self.dropout1d(x)\n",
        "\n",
        "        #FCNN Layer 2\n",
        "        x = self.fc2(x)\n",
        "        # x = self.batchnorm3(x)\n",
        "        x = F.relu(x)\n",
        "        x = self.dropout1d(x)\n",
        "        #FCNN Layer 3\n",
        "        x = self.fc3(x)\n",
        "        # x = self.batchnorm3(x)\n",
        "        x = F.relu(x)\n",
        "        x = self.dropout1d(x)\n",
        "\n",
        "        #LAst Linear Layer\n",
        "        x = self.fc3(x)\n",
        "        # x = self.softmax(x)\n",
        "        return x\n",
        "# !nvidia-smi\n",
        "temp = Imagenet_model3().to(get_default_device())\n",
        "summary(temp, (3, 32, 32))"
      ],
      "metadata": {
        "id": "3iV7ZgG9TXgL",
        "outputId": "332c38c3-ae4c-45e2-967c-75adddb29904",
        "colab": {
          "base_uri": "https://localhost:8080/"
        }
      },
      "id": "3iV7ZgG9TXgL",
      "execution_count": 39,
      "outputs": [
        {
          "output_type": "stream",
          "name": "stdout",
          "text": [
            "Files already downloaded and verified\n",
            "Training Size : 40000\n",
            "Validation Size : 10000\n",
            "Files already downloaded and verified\n",
            "Testing Size : 10000\n",
            "----------------------------------------------------------------\n",
            "        Layer (type)               Output Shape         Param #\n",
            "================================================================\n",
            "            Conv2d-1            [-1, 6, 28, 28]             456\n",
            "         MaxPool2d-2            [-1, 6, 14, 14]               0\n",
            "            Conv2d-3           [-1, 16, 10, 10]           2,416\n",
            "         MaxPool2d-4             [-1, 16, 5, 5]               0\n",
            "         Dropout2d-5             [-1, 16, 5, 5]               0\n",
            "            Linear-6                  [-1, 120]          48,120\n",
            "            Linear-7                   [-1, 84]          10,164\n",
            "            Linear-8                   [-1, 10]             850\n",
            "           Softmax-9                   [-1, 10]               0\n",
            "================================================================\n",
            "Total params: 62,006\n",
            "Trainable params: 62,006\n",
            "Non-trainable params: 0\n",
            "----------------------------------------------------------------\n",
            "Input size (MB): 0.01\n",
            "Forward/backward pass size (MB): 0.06\n",
            "Params size (MB): 0.24\n",
            "Estimated Total Size (MB): 0.31\n",
            "----------------------------------------------------------------\n"
          ]
        }
      ]
    }
  ],
  "metadata": {
    "kernelspec": {
      "display_name": "Python 3 (ipykernel)",
      "language": "python",
      "name": "python3"
    },
    "language_info": {
      "codemirror_mode": {
        "name": "ipython",
        "version": 3
      },
      "file_extension": ".py",
      "mimetype": "text/x-python",
      "name": "python",
      "nbconvert_exporter": "python",
      "pygments_lexer": "ipython3",
      "version": "3.9.13"
    },
    "colab": {
      "provenance": [],
      "collapsed_sections": []
    },
    "accelerator": "GPU",
    "widgets": {
      "application/vnd.jupyter.widget-state+json": {
        "a15f3335c0594359b89787ef1d1509e3": {
          "model_module": "@jupyter-widgets/controls",
          "model_name": "HBoxModel",
          "model_module_version": "1.5.0",
          "state": {
            "_dom_classes": [],
            "_model_module": "@jupyter-widgets/controls",
            "_model_module_version": "1.5.0",
            "_model_name": "HBoxModel",
            "_view_count": null,
            "_view_module": "@jupyter-widgets/controls",
            "_view_module_version": "1.5.0",
            "_view_name": "HBoxView",
            "box_style": "",
            "children": [
              "IPY_MODEL_78ce5f43528e45a0b9ac7cf87d20db0c",
              "IPY_MODEL_fac25381f3274ef0abd4b833428c450d",
              "IPY_MODEL_7c5b7cb11b93468f87c19d0aaebb9982"
            ],
            "layout": "IPY_MODEL_d013bce224fe43b4807979964c35218a"
          }
        },
        "78ce5f43528e45a0b9ac7cf87d20db0c": {
          "model_module": "@jupyter-widgets/controls",
          "model_name": "HTMLModel",
          "model_module_version": "1.5.0",
          "state": {
            "_dom_classes": [],
            "_model_module": "@jupyter-widgets/controls",
            "_model_module_version": "1.5.0",
            "_model_name": "HTMLModel",
            "_view_count": null,
            "_view_module": "@jupyter-widgets/controls",
            "_view_module_version": "1.5.0",
            "_view_name": "HTMLView",
            "description": "",
            "description_tooltip": null,
            "layout": "IPY_MODEL_ad622107ca6844f3a633ce96e11b63a9",
            "placeholder": "​",
            "style": "IPY_MODEL_d279b774903346da90b103f8722c93a6",
            "value": "100%"
          }
        },
        "fac25381f3274ef0abd4b833428c450d": {
          "model_module": "@jupyter-widgets/controls",
          "model_name": "FloatProgressModel",
          "model_module_version": "1.5.0",
          "state": {
            "_dom_classes": [],
            "_model_module": "@jupyter-widgets/controls",
            "_model_module_version": "1.5.0",
            "_model_name": "FloatProgressModel",
            "_view_count": null,
            "_view_module": "@jupyter-widgets/controls",
            "_view_module_version": "1.5.0",
            "_view_name": "ProgressView",
            "bar_style": "success",
            "description": "",
            "description_tooltip": null,
            "layout": "IPY_MODEL_348e779bc72541bbbc9d6383ad8f47ed",
            "max": 46830571,
            "min": 0,
            "orientation": "horizontal",
            "style": "IPY_MODEL_a88f5721bd844c1ba1c8caf89de3b8b2",
            "value": 46830571
          }
        },
        "7c5b7cb11b93468f87c19d0aaebb9982": {
          "model_module": "@jupyter-widgets/controls",
          "model_name": "HTMLModel",
          "model_module_version": "1.5.0",
          "state": {
            "_dom_classes": [],
            "_model_module": "@jupyter-widgets/controls",
            "_model_module_version": "1.5.0",
            "_model_name": "HTMLModel",
            "_view_count": null,
            "_view_module": "@jupyter-widgets/controls",
            "_view_module_version": "1.5.0",
            "_view_name": "HTMLView",
            "description": "",
            "description_tooltip": null,
            "layout": "IPY_MODEL_89363cd15ba44f08b5eb64b272d52182",
            "placeholder": "​",
            "style": "IPY_MODEL_548337db42074b4a9b59503f68c986c6",
            "value": " 44.7M/44.7M [00:00&lt;00:00, 108MB/s]"
          }
        },
        "d013bce224fe43b4807979964c35218a": {
          "model_module": "@jupyter-widgets/base",
          "model_name": "LayoutModel",
          "model_module_version": "1.2.0",
          "state": {
            "_model_module": "@jupyter-widgets/base",
            "_model_module_version": "1.2.0",
            "_model_name": "LayoutModel",
            "_view_count": null,
            "_view_module": "@jupyter-widgets/base",
            "_view_module_version": "1.2.0",
            "_view_name": "LayoutView",
            "align_content": null,
            "align_items": null,
            "align_self": null,
            "border": null,
            "bottom": null,
            "display": null,
            "flex": null,
            "flex_flow": null,
            "grid_area": null,
            "grid_auto_columns": null,
            "grid_auto_flow": null,
            "grid_auto_rows": null,
            "grid_column": null,
            "grid_gap": null,
            "grid_row": null,
            "grid_template_areas": null,
            "grid_template_columns": null,
            "grid_template_rows": null,
            "height": null,
            "justify_content": null,
            "justify_items": null,
            "left": null,
            "margin": null,
            "max_height": null,
            "max_width": null,
            "min_height": null,
            "min_width": null,
            "object_fit": null,
            "object_position": null,
            "order": null,
            "overflow": null,
            "overflow_x": null,
            "overflow_y": null,
            "padding": null,
            "right": null,
            "top": null,
            "visibility": null,
            "width": null
          }
        },
        "ad622107ca6844f3a633ce96e11b63a9": {
          "model_module": "@jupyter-widgets/base",
          "model_name": "LayoutModel",
          "model_module_version": "1.2.0",
          "state": {
            "_model_module": "@jupyter-widgets/base",
            "_model_module_version": "1.2.0",
            "_model_name": "LayoutModel",
            "_view_count": null,
            "_view_module": "@jupyter-widgets/base",
            "_view_module_version": "1.2.0",
            "_view_name": "LayoutView",
            "align_content": null,
            "align_items": null,
            "align_self": null,
            "border": null,
            "bottom": null,
            "display": null,
            "flex": null,
            "flex_flow": null,
            "grid_area": null,
            "grid_auto_columns": null,
            "grid_auto_flow": null,
            "grid_auto_rows": null,
            "grid_column": null,
            "grid_gap": null,
            "grid_row": null,
            "grid_template_areas": null,
            "grid_template_columns": null,
            "grid_template_rows": null,
            "height": null,
            "justify_content": null,
            "justify_items": null,
            "left": null,
            "margin": null,
            "max_height": null,
            "max_width": null,
            "min_height": null,
            "min_width": null,
            "object_fit": null,
            "object_position": null,
            "order": null,
            "overflow": null,
            "overflow_x": null,
            "overflow_y": null,
            "padding": null,
            "right": null,
            "top": null,
            "visibility": null,
            "width": null
          }
        },
        "d279b774903346da90b103f8722c93a6": {
          "model_module": "@jupyter-widgets/controls",
          "model_name": "DescriptionStyleModel",
          "model_module_version": "1.5.0",
          "state": {
            "_model_module": "@jupyter-widgets/controls",
            "_model_module_version": "1.5.0",
            "_model_name": "DescriptionStyleModel",
            "_view_count": null,
            "_view_module": "@jupyter-widgets/base",
            "_view_module_version": "1.2.0",
            "_view_name": "StyleView",
            "description_width": ""
          }
        },
        "348e779bc72541bbbc9d6383ad8f47ed": {
          "model_module": "@jupyter-widgets/base",
          "model_name": "LayoutModel",
          "model_module_version": "1.2.0",
          "state": {
            "_model_module": "@jupyter-widgets/base",
            "_model_module_version": "1.2.0",
            "_model_name": "LayoutModel",
            "_view_count": null,
            "_view_module": "@jupyter-widgets/base",
            "_view_module_version": "1.2.0",
            "_view_name": "LayoutView",
            "align_content": null,
            "align_items": null,
            "align_self": null,
            "border": null,
            "bottom": null,
            "display": null,
            "flex": null,
            "flex_flow": null,
            "grid_area": null,
            "grid_auto_columns": null,
            "grid_auto_flow": null,
            "grid_auto_rows": null,
            "grid_column": null,
            "grid_gap": null,
            "grid_row": null,
            "grid_template_areas": null,
            "grid_template_columns": null,
            "grid_template_rows": null,
            "height": null,
            "justify_content": null,
            "justify_items": null,
            "left": null,
            "margin": null,
            "max_height": null,
            "max_width": null,
            "min_height": null,
            "min_width": null,
            "object_fit": null,
            "object_position": null,
            "order": null,
            "overflow": null,
            "overflow_x": null,
            "overflow_y": null,
            "padding": null,
            "right": null,
            "top": null,
            "visibility": null,
            "width": null
          }
        },
        "a88f5721bd844c1ba1c8caf89de3b8b2": {
          "model_module": "@jupyter-widgets/controls",
          "model_name": "ProgressStyleModel",
          "model_module_version": "1.5.0",
          "state": {
            "_model_module": "@jupyter-widgets/controls",
            "_model_module_version": "1.5.0",
            "_model_name": "ProgressStyleModel",
            "_view_count": null,
            "_view_module": "@jupyter-widgets/base",
            "_view_module_version": "1.2.0",
            "_view_name": "StyleView",
            "bar_color": null,
            "description_width": ""
          }
        },
        "89363cd15ba44f08b5eb64b272d52182": {
          "model_module": "@jupyter-widgets/base",
          "model_name": "LayoutModel",
          "model_module_version": "1.2.0",
          "state": {
            "_model_module": "@jupyter-widgets/base",
            "_model_module_version": "1.2.0",
            "_model_name": "LayoutModel",
            "_view_count": null,
            "_view_module": "@jupyter-widgets/base",
            "_view_module_version": "1.2.0",
            "_view_name": "LayoutView",
            "align_content": null,
            "align_items": null,
            "align_self": null,
            "border": null,
            "bottom": null,
            "display": null,
            "flex": null,
            "flex_flow": null,
            "grid_area": null,
            "grid_auto_columns": null,
            "grid_auto_flow": null,
            "grid_auto_rows": null,
            "grid_column": null,
            "grid_gap": null,
            "grid_row": null,
            "grid_template_areas": null,
            "grid_template_columns": null,
            "grid_template_rows": null,
            "height": null,
            "justify_content": null,
            "justify_items": null,
            "left": null,
            "margin": null,
            "max_height": null,
            "max_width": null,
            "min_height": null,
            "min_width": null,
            "object_fit": null,
            "object_position": null,
            "order": null,
            "overflow": null,
            "overflow_x": null,
            "overflow_y": null,
            "padding": null,
            "right": null,
            "top": null,
            "visibility": null,
            "width": null
          }
        },
        "548337db42074b4a9b59503f68c986c6": {
          "model_module": "@jupyter-widgets/controls",
          "model_name": "DescriptionStyleModel",
          "model_module_version": "1.5.0",
          "state": {
            "_model_module": "@jupyter-widgets/controls",
            "_model_module_version": "1.5.0",
            "_model_name": "DescriptionStyleModel",
            "_view_count": null,
            "_view_module": "@jupyter-widgets/base",
            "_view_module_version": "1.2.0",
            "_view_name": "StyleView",
            "description_width": ""
          }
        },
        "4d97553b6bbd4b76be3153ffc1cf91ed": {
          "model_module": "@jupyter-widgets/controls",
          "model_name": "HBoxModel",
          "model_module_version": "1.5.0",
          "state": {
            "_dom_classes": [],
            "_model_module": "@jupyter-widgets/controls",
            "_model_module_version": "1.5.0",
            "_model_name": "HBoxModel",
            "_view_count": null,
            "_view_module": "@jupyter-widgets/controls",
            "_view_module_version": "1.5.0",
            "_view_name": "HBoxView",
            "box_style": "",
            "children": [
              "IPY_MODEL_d9b79441dbba491c9189ba8ffe57147d",
              "IPY_MODEL_6854ebb604234af2a5ed20af64a1fbe3",
              "IPY_MODEL_40378dafcc564c5aaea13466c8450ed6"
            ],
            "layout": "IPY_MODEL_a8743a5cfcbc4006af35af735f578bf8"
          }
        },
        "d9b79441dbba491c9189ba8ffe57147d": {
          "model_module": "@jupyter-widgets/controls",
          "model_name": "HTMLModel",
          "model_module_version": "1.5.0",
          "state": {
            "_dom_classes": [],
            "_model_module": "@jupyter-widgets/controls",
            "_model_module_version": "1.5.0",
            "_model_name": "HTMLModel",
            "_view_count": null,
            "_view_module": "@jupyter-widgets/controls",
            "_view_module_version": "1.5.0",
            "_view_name": "HTMLView",
            "description": "",
            "description_tooltip": null,
            "layout": "IPY_MODEL_438627787b7946ad9349d79e12b1a578",
            "placeholder": "​",
            "style": "IPY_MODEL_aeea84aee4314155b62b8b08b7169626",
            "value": "100%"
          }
        },
        "6854ebb604234af2a5ed20af64a1fbe3": {
          "model_module": "@jupyter-widgets/controls",
          "model_name": "FloatProgressModel",
          "model_module_version": "1.5.0",
          "state": {
            "_dom_classes": [],
            "_model_module": "@jupyter-widgets/controls",
            "_model_module_version": "1.5.0",
            "_model_name": "FloatProgressModel",
            "_view_count": null,
            "_view_module": "@jupyter-widgets/controls",
            "_view_module_version": "1.5.0",
            "_view_name": "ProgressView",
            "bar_style": "success",
            "description": "",
            "description_tooltip": null,
            "layout": "IPY_MODEL_77096268f905419da32dbc9f950032b6",
            "max": 553433881,
            "min": 0,
            "orientation": "horizontal",
            "style": "IPY_MODEL_22c5cacef9204f08b1856e14246574d6",
            "value": 553433881
          }
        },
        "40378dafcc564c5aaea13466c8450ed6": {
          "model_module": "@jupyter-widgets/controls",
          "model_name": "HTMLModel",
          "model_module_version": "1.5.0",
          "state": {
            "_dom_classes": [],
            "_model_module": "@jupyter-widgets/controls",
            "_model_module_version": "1.5.0",
            "_model_name": "HTMLModel",
            "_view_count": null,
            "_view_module": "@jupyter-widgets/controls",
            "_view_module_version": "1.5.0",
            "_view_name": "HTMLView",
            "description": "",
            "description_tooltip": null,
            "layout": "IPY_MODEL_facf591cd8a74d4794b2b777d9e41f1f",
            "placeholder": "​",
            "style": "IPY_MODEL_ffc4e8f50afd43219f683257fe17ce1b",
            "value": " 528M/528M [00:03&lt;00:00, 191MB/s]"
          }
        },
        "a8743a5cfcbc4006af35af735f578bf8": {
          "model_module": "@jupyter-widgets/base",
          "model_name": "LayoutModel",
          "model_module_version": "1.2.0",
          "state": {
            "_model_module": "@jupyter-widgets/base",
            "_model_module_version": "1.2.0",
            "_model_name": "LayoutModel",
            "_view_count": null,
            "_view_module": "@jupyter-widgets/base",
            "_view_module_version": "1.2.0",
            "_view_name": "LayoutView",
            "align_content": null,
            "align_items": null,
            "align_self": null,
            "border": null,
            "bottom": null,
            "display": null,
            "flex": null,
            "flex_flow": null,
            "grid_area": null,
            "grid_auto_columns": null,
            "grid_auto_flow": null,
            "grid_auto_rows": null,
            "grid_column": null,
            "grid_gap": null,
            "grid_row": null,
            "grid_template_areas": null,
            "grid_template_columns": null,
            "grid_template_rows": null,
            "height": null,
            "justify_content": null,
            "justify_items": null,
            "left": null,
            "margin": null,
            "max_height": null,
            "max_width": null,
            "min_height": null,
            "min_width": null,
            "object_fit": null,
            "object_position": null,
            "order": null,
            "overflow": null,
            "overflow_x": null,
            "overflow_y": null,
            "padding": null,
            "right": null,
            "top": null,
            "visibility": null,
            "width": null
          }
        },
        "438627787b7946ad9349d79e12b1a578": {
          "model_module": "@jupyter-widgets/base",
          "model_name": "LayoutModel",
          "model_module_version": "1.2.0",
          "state": {
            "_model_module": "@jupyter-widgets/base",
            "_model_module_version": "1.2.0",
            "_model_name": "LayoutModel",
            "_view_count": null,
            "_view_module": "@jupyter-widgets/base",
            "_view_module_version": "1.2.0",
            "_view_name": "LayoutView",
            "align_content": null,
            "align_items": null,
            "align_self": null,
            "border": null,
            "bottom": null,
            "display": null,
            "flex": null,
            "flex_flow": null,
            "grid_area": null,
            "grid_auto_columns": null,
            "grid_auto_flow": null,
            "grid_auto_rows": null,
            "grid_column": null,
            "grid_gap": null,
            "grid_row": null,
            "grid_template_areas": null,
            "grid_template_columns": null,
            "grid_template_rows": null,
            "height": null,
            "justify_content": null,
            "justify_items": null,
            "left": null,
            "margin": null,
            "max_height": null,
            "max_width": null,
            "min_height": null,
            "min_width": null,
            "object_fit": null,
            "object_position": null,
            "order": null,
            "overflow": null,
            "overflow_x": null,
            "overflow_y": null,
            "padding": null,
            "right": null,
            "top": null,
            "visibility": null,
            "width": null
          }
        },
        "aeea84aee4314155b62b8b08b7169626": {
          "model_module": "@jupyter-widgets/controls",
          "model_name": "DescriptionStyleModel",
          "model_module_version": "1.5.0",
          "state": {
            "_model_module": "@jupyter-widgets/controls",
            "_model_module_version": "1.5.0",
            "_model_name": "DescriptionStyleModel",
            "_view_count": null,
            "_view_module": "@jupyter-widgets/base",
            "_view_module_version": "1.2.0",
            "_view_name": "StyleView",
            "description_width": ""
          }
        },
        "77096268f905419da32dbc9f950032b6": {
          "model_module": "@jupyter-widgets/base",
          "model_name": "LayoutModel",
          "model_module_version": "1.2.0",
          "state": {
            "_model_module": "@jupyter-widgets/base",
            "_model_module_version": "1.2.0",
            "_model_name": "LayoutModel",
            "_view_count": null,
            "_view_module": "@jupyter-widgets/base",
            "_view_module_version": "1.2.0",
            "_view_name": "LayoutView",
            "align_content": null,
            "align_items": null,
            "align_self": null,
            "border": null,
            "bottom": null,
            "display": null,
            "flex": null,
            "flex_flow": null,
            "grid_area": null,
            "grid_auto_columns": null,
            "grid_auto_flow": null,
            "grid_auto_rows": null,
            "grid_column": null,
            "grid_gap": null,
            "grid_row": null,
            "grid_template_areas": null,
            "grid_template_columns": null,
            "grid_template_rows": null,
            "height": null,
            "justify_content": null,
            "justify_items": null,
            "left": null,
            "margin": null,
            "max_height": null,
            "max_width": null,
            "min_height": null,
            "min_width": null,
            "object_fit": null,
            "object_position": null,
            "order": null,
            "overflow": null,
            "overflow_x": null,
            "overflow_y": null,
            "padding": null,
            "right": null,
            "top": null,
            "visibility": null,
            "width": null
          }
        },
        "22c5cacef9204f08b1856e14246574d6": {
          "model_module": "@jupyter-widgets/controls",
          "model_name": "ProgressStyleModel",
          "model_module_version": "1.5.0",
          "state": {
            "_model_module": "@jupyter-widgets/controls",
            "_model_module_version": "1.5.0",
            "_model_name": "ProgressStyleModel",
            "_view_count": null,
            "_view_module": "@jupyter-widgets/base",
            "_view_module_version": "1.2.0",
            "_view_name": "StyleView",
            "bar_color": null,
            "description_width": ""
          }
        },
        "facf591cd8a74d4794b2b777d9e41f1f": {
          "model_module": "@jupyter-widgets/base",
          "model_name": "LayoutModel",
          "model_module_version": "1.2.0",
          "state": {
            "_model_module": "@jupyter-widgets/base",
            "_model_module_version": "1.2.0",
            "_model_name": "LayoutModel",
            "_view_count": null,
            "_view_module": "@jupyter-widgets/base",
            "_view_module_version": "1.2.0",
            "_view_name": "LayoutView",
            "align_content": null,
            "align_items": null,
            "align_self": null,
            "border": null,
            "bottom": null,
            "display": null,
            "flex": null,
            "flex_flow": null,
            "grid_area": null,
            "grid_auto_columns": null,
            "grid_auto_flow": null,
            "grid_auto_rows": null,
            "grid_column": null,
            "grid_gap": null,
            "grid_row": null,
            "grid_template_areas": null,
            "grid_template_columns": null,
            "grid_template_rows": null,
            "height": null,
            "justify_content": null,
            "justify_items": null,
            "left": null,
            "margin": null,
            "max_height": null,
            "max_width": null,
            "min_height": null,
            "min_width": null,
            "object_fit": null,
            "object_position": null,
            "order": null,
            "overflow": null,
            "overflow_x": null,
            "overflow_y": null,
            "padding": null,
            "right": null,
            "top": null,
            "visibility": null,
            "width": null
          }
        },
        "ffc4e8f50afd43219f683257fe17ce1b": {
          "model_module": "@jupyter-widgets/controls",
          "model_name": "DescriptionStyleModel",
          "model_module_version": "1.5.0",
          "state": {
            "_model_module": "@jupyter-widgets/controls",
            "_model_module_version": "1.5.0",
            "_model_name": "DescriptionStyleModel",
            "_view_count": null,
            "_view_module": "@jupyter-widgets/base",
            "_view_module_version": "1.2.0",
            "_view_name": "StyleView",
            "description_width": ""
          }
        },
        "6abed5e701df4867b28a26c9a5e946dd": {
          "model_module": "@jupyter-widgets/controls",
          "model_name": "HBoxModel",
          "model_module_version": "1.5.0",
          "state": {
            "_dom_classes": [],
            "_model_module": "@jupyter-widgets/controls",
            "_model_module_version": "1.5.0",
            "_model_name": "HBoxModel",
            "_view_count": null,
            "_view_module": "@jupyter-widgets/controls",
            "_view_module_version": "1.5.0",
            "_view_name": "HBoxView",
            "box_style": "",
            "children": [
              "IPY_MODEL_a78c31f15c5e4fc887ecfdf10a9c9c00",
              "IPY_MODEL_5d97ac95b9c64823926d867ffbcd3797",
              "IPY_MODEL_8727b07ee94045f3ac16fd55b741f27a"
            ],
            "layout": "IPY_MODEL_90c1d663a8d7456197d24865f84e864e"
          }
        },
        "a78c31f15c5e4fc887ecfdf10a9c9c00": {
          "model_module": "@jupyter-widgets/controls",
          "model_name": "HTMLModel",
          "model_module_version": "1.5.0",
          "state": {
            "_dom_classes": [],
            "_model_module": "@jupyter-widgets/controls",
            "_model_module_version": "1.5.0",
            "_model_name": "HTMLModel",
            "_view_count": null,
            "_view_module": "@jupyter-widgets/controls",
            "_view_module_version": "1.5.0",
            "_view_name": "HTMLView",
            "description": "",
            "description_tooltip": null,
            "layout": "IPY_MODEL_5468dea78f614178a72bc5d85cda7f54",
            "placeholder": "​",
            "style": "IPY_MODEL_7aca5c562bbc41b58e6a77d570171035",
            "value": "100%"
          }
        },
        "5d97ac95b9c64823926d867ffbcd3797": {
          "model_module": "@jupyter-widgets/controls",
          "model_name": "FloatProgressModel",
          "model_module_version": "1.5.0",
          "state": {
            "_dom_classes": [],
            "_model_module": "@jupyter-widgets/controls",
            "_model_module_version": "1.5.0",
            "_model_name": "FloatProgressModel",
            "_view_count": null,
            "_view_module": "@jupyter-widgets/controls",
            "_view_module_version": "1.5.0",
            "_view_name": "ProgressView",
            "bar_style": "success",
            "description": "",
            "description_tooltip": null,
            "layout": "IPY_MODEL_843492589f274f9f9912a41c1b051864",
            "max": 170498071,
            "min": 0,
            "orientation": "horizontal",
            "style": "IPY_MODEL_073571a27c634f93a1937f5eb50ea7a6",
            "value": 170498071
          }
        },
        "8727b07ee94045f3ac16fd55b741f27a": {
          "model_module": "@jupyter-widgets/controls",
          "model_name": "HTMLModel",
          "model_module_version": "1.5.0",
          "state": {
            "_dom_classes": [],
            "_model_module": "@jupyter-widgets/controls",
            "_model_module_version": "1.5.0",
            "_model_name": "HTMLModel",
            "_view_count": null,
            "_view_module": "@jupyter-widgets/controls",
            "_view_module_version": "1.5.0",
            "_view_name": "HTMLView",
            "description": "",
            "description_tooltip": null,
            "layout": "IPY_MODEL_6d2b72edda8642908ad195ddf41d6fa8",
            "placeholder": "​",
            "style": "IPY_MODEL_c69170df5bc54b399c44b4e3403bd9af",
            "value": " 170498071/170498071 [00:02&lt;00:00, 98931251.72it/s]"
          }
        },
        "90c1d663a8d7456197d24865f84e864e": {
          "model_module": "@jupyter-widgets/base",
          "model_name": "LayoutModel",
          "model_module_version": "1.2.0",
          "state": {
            "_model_module": "@jupyter-widgets/base",
            "_model_module_version": "1.2.0",
            "_model_name": "LayoutModel",
            "_view_count": null,
            "_view_module": "@jupyter-widgets/base",
            "_view_module_version": "1.2.0",
            "_view_name": "LayoutView",
            "align_content": null,
            "align_items": null,
            "align_self": null,
            "border": null,
            "bottom": null,
            "display": null,
            "flex": null,
            "flex_flow": null,
            "grid_area": null,
            "grid_auto_columns": null,
            "grid_auto_flow": null,
            "grid_auto_rows": null,
            "grid_column": null,
            "grid_gap": null,
            "grid_row": null,
            "grid_template_areas": null,
            "grid_template_columns": null,
            "grid_template_rows": null,
            "height": null,
            "justify_content": null,
            "justify_items": null,
            "left": null,
            "margin": null,
            "max_height": null,
            "max_width": null,
            "min_height": null,
            "min_width": null,
            "object_fit": null,
            "object_position": null,
            "order": null,
            "overflow": null,
            "overflow_x": null,
            "overflow_y": null,
            "padding": null,
            "right": null,
            "top": null,
            "visibility": null,
            "width": null
          }
        },
        "5468dea78f614178a72bc5d85cda7f54": {
          "model_module": "@jupyter-widgets/base",
          "model_name": "LayoutModel",
          "model_module_version": "1.2.0",
          "state": {
            "_model_module": "@jupyter-widgets/base",
            "_model_module_version": "1.2.0",
            "_model_name": "LayoutModel",
            "_view_count": null,
            "_view_module": "@jupyter-widgets/base",
            "_view_module_version": "1.2.0",
            "_view_name": "LayoutView",
            "align_content": null,
            "align_items": null,
            "align_self": null,
            "border": null,
            "bottom": null,
            "display": null,
            "flex": null,
            "flex_flow": null,
            "grid_area": null,
            "grid_auto_columns": null,
            "grid_auto_flow": null,
            "grid_auto_rows": null,
            "grid_column": null,
            "grid_gap": null,
            "grid_row": null,
            "grid_template_areas": null,
            "grid_template_columns": null,
            "grid_template_rows": null,
            "height": null,
            "justify_content": null,
            "justify_items": null,
            "left": null,
            "margin": null,
            "max_height": null,
            "max_width": null,
            "min_height": null,
            "min_width": null,
            "object_fit": null,
            "object_position": null,
            "order": null,
            "overflow": null,
            "overflow_x": null,
            "overflow_y": null,
            "padding": null,
            "right": null,
            "top": null,
            "visibility": null,
            "width": null
          }
        },
        "7aca5c562bbc41b58e6a77d570171035": {
          "model_module": "@jupyter-widgets/controls",
          "model_name": "DescriptionStyleModel",
          "model_module_version": "1.5.0",
          "state": {
            "_model_module": "@jupyter-widgets/controls",
            "_model_module_version": "1.5.0",
            "_model_name": "DescriptionStyleModel",
            "_view_count": null,
            "_view_module": "@jupyter-widgets/base",
            "_view_module_version": "1.2.0",
            "_view_name": "StyleView",
            "description_width": ""
          }
        },
        "843492589f274f9f9912a41c1b051864": {
          "model_module": "@jupyter-widgets/base",
          "model_name": "LayoutModel",
          "model_module_version": "1.2.0",
          "state": {
            "_model_module": "@jupyter-widgets/base",
            "_model_module_version": "1.2.0",
            "_model_name": "LayoutModel",
            "_view_count": null,
            "_view_module": "@jupyter-widgets/base",
            "_view_module_version": "1.2.0",
            "_view_name": "LayoutView",
            "align_content": null,
            "align_items": null,
            "align_self": null,
            "border": null,
            "bottom": null,
            "display": null,
            "flex": null,
            "flex_flow": null,
            "grid_area": null,
            "grid_auto_columns": null,
            "grid_auto_flow": null,
            "grid_auto_rows": null,
            "grid_column": null,
            "grid_gap": null,
            "grid_row": null,
            "grid_template_areas": null,
            "grid_template_columns": null,
            "grid_template_rows": null,
            "height": null,
            "justify_content": null,
            "justify_items": null,
            "left": null,
            "margin": null,
            "max_height": null,
            "max_width": null,
            "min_height": null,
            "min_width": null,
            "object_fit": null,
            "object_position": null,
            "order": null,
            "overflow": null,
            "overflow_x": null,
            "overflow_y": null,
            "padding": null,
            "right": null,
            "top": null,
            "visibility": null,
            "width": null
          }
        },
        "073571a27c634f93a1937f5eb50ea7a6": {
          "model_module": "@jupyter-widgets/controls",
          "model_name": "ProgressStyleModel",
          "model_module_version": "1.5.0",
          "state": {
            "_model_module": "@jupyter-widgets/controls",
            "_model_module_version": "1.5.0",
            "_model_name": "ProgressStyleModel",
            "_view_count": null,
            "_view_module": "@jupyter-widgets/base",
            "_view_module_version": "1.2.0",
            "_view_name": "StyleView",
            "bar_color": null,
            "description_width": ""
          }
        },
        "6d2b72edda8642908ad195ddf41d6fa8": {
          "model_module": "@jupyter-widgets/base",
          "model_name": "LayoutModel",
          "model_module_version": "1.2.0",
          "state": {
            "_model_module": "@jupyter-widgets/base",
            "_model_module_version": "1.2.0",
            "_model_name": "LayoutModel",
            "_view_count": null,
            "_view_module": "@jupyter-widgets/base",
            "_view_module_version": "1.2.0",
            "_view_name": "LayoutView",
            "align_content": null,
            "align_items": null,
            "align_self": null,
            "border": null,
            "bottom": null,
            "display": null,
            "flex": null,
            "flex_flow": null,
            "grid_area": null,
            "grid_auto_columns": null,
            "grid_auto_flow": null,
            "grid_auto_rows": null,
            "grid_column": null,
            "grid_gap": null,
            "grid_row": null,
            "grid_template_areas": null,
            "grid_template_columns": null,
            "grid_template_rows": null,
            "height": null,
            "justify_content": null,
            "justify_items": null,
            "left": null,
            "margin": null,
            "max_height": null,
            "max_width": null,
            "min_height": null,
            "min_width": null,
            "object_fit": null,
            "object_position": null,
            "order": null,
            "overflow": null,
            "overflow_x": null,
            "overflow_y": null,
            "padding": null,
            "right": null,
            "top": null,
            "visibility": null,
            "width": null
          }
        },
        "c69170df5bc54b399c44b4e3403bd9af": {
          "model_module": "@jupyter-widgets/controls",
          "model_name": "DescriptionStyleModel",
          "model_module_version": "1.5.0",
          "state": {
            "_model_module": "@jupyter-widgets/controls",
            "_model_module_version": "1.5.0",
            "_model_name": "DescriptionStyleModel",
            "_view_count": null,
            "_view_module": "@jupyter-widgets/base",
            "_view_module_version": "1.2.0",
            "_view_name": "StyleView",
            "description_width": ""
          }
        }
      }
    }
  },
  "nbformat": 4,
  "nbformat_minor": 5
}